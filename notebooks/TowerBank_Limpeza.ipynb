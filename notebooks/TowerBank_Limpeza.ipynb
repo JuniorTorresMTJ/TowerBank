{
  "nbformat": 4,
  "nbformat_minor": 0,
  "metadata": {
    "colab": {
      "name": "TowerBank_Limpeza.ipynb",
      "provenance": [],
      "authorship_tag": "ABX9TyN7ssdZLOyb8ok2yiNVfwQS",
      "include_colab_link": true
    },
    "kernelspec": {
      "name": "python3",
      "display_name": "Python 3"
    },
    "language_info": {
      "name": "python"
    }
  },
  "cells": [
    {
      "cell_type": "markdown",
      "metadata": {
        "id": "view-in-github",
        "colab_type": "text"
      },
      "source": [
        "<a href=\"https://colab.research.google.com/github/JuniorTorresMTJ/TowerBank/blob/main/notebooks/TowerBank_Limpeza.ipynb\" target=\"_parent\"><img src=\"https://colab.research.google.com/assets/colab-badge.svg\" alt=\"Open In Colab\"/></a>"
      ]
    },
    {
      "cell_type": "markdown",
      "metadata": {
        "id": "O08bKlXWdGKt"
      },
      "source": [
        "***\n",
        "***\n",
        "#TowerBank\n",
        "***\n",
        "***"
      ]
    },
    {
      "cell_type": "markdown",
      "metadata": {
        "id": "eEvNzn-q0CDs"
      },
      "source": [
        "<img src=\"https://raw.githubusercontent.com/JuniorTorresMTJ/TowerBank/main/img/TowerBankLog.png\" alt=\"win\" width=\"800\"/>"
      ]
    },
    {
      "cell_type": "markdown",
      "metadata": {
        "id": "3gpwheC7dkjt"
      },
      "source": [
        "***\n",
        "#OBJETIVO\n",
        "***"
      ]
    },
    {
      "cell_type": "markdown",
      "metadata": {
        "id": "AuSPiwz70Q1i"
      },
      "source": [
        "Criação de uma maquina preditiva que aprove ou negue crédito do banco digital TowerBank.\n"
      ]
    },
    {
      "cell_type": "markdown",
      "metadata": {
        "id": "8B7kdtaFdTdU"
      },
      "source": [
        "***\n",
        "#IMPORTAÇÃO DAS BIBLIOTECAS\n",
        "***"
      ]
    },
    {
      "cell_type": "code",
      "metadata": {
        "id": "bsKSmxzSArzG"
      },
      "source": [
        "import pandas as pd\n",
        "import numpy as np\n",
        "from google.colab import files\n",
        "\n",
        "import warnings\n",
        "warnings.filterwarnings('ignore')"
      ],
      "execution_count": 1,
      "outputs": []
    },
    {
      "cell_type": "markdown",
      "metadata": {
        "id": "53wkc818dRdo"
      },
      "source": [
        "***\n",
        "#DADOS\n",
        "***"
      ]
    },
    {
      "cell_type": "markdown",
      "metadata": {
        "id": "VOc0YpQcGXsJ"
      },
      "source": [
        "Base inspirada  e adaptada de um desafio do [Kaggle](https://www.kaggle.com/rikdifos/credit-card-approval-prediction)\n",
        "\n",
        "Para baixar as bases adaptadas e a base limpa acesse meu [Github](https://github.com/JuniorTorresMTJ/TowerBank/tree/main/dados)"
      ]
    },
    {
      "cell_type": "code",
      "metadata": {
        "id": "92Z2QIIRdyuR"
      },
      "source": [
        "df_clientes_cadastrados = pd.read_csv('https://raw.githubusercontent.com/JuniorTorresMTJ/TowerBank/main/dados/clientes_cadastrados.csv?raw=True')\n",
        "df_clientes_aprovados   = pd.read_csv('https://raw.githubusercontent.com/JuniorTorresMTJ/TowerBank/main/dados/clientes_aprovados.csv?raw=True')\n"
      ],
      "execution_count": 2,
      "outputs": []
    },
    {
      "cell_type": "markdown",
      "metadata": {
        "id": "9keDNuVpqjs5"
      },
      "source": [
        "***\n",
        "#LIMPEZA DA BASE DE CLIENTES CADASTRADOS\n",
        "***\n"
      ]
    },
    {
      "cell_type": "markdown",
      "metadata": {
        "id": "XGuvau0aHUev"
      },
      "source": [
        "Primeiramente limpar a base que possui as informações dos clientes cadastrados."
      ]
    },
    {
      "cell_type": "markdown",
      "metadata": {
        "id": "ir5wcdiRHMr3"
      },
      "source": [
        "Vamos verificar quais são as colunas e informações da base utilizando o `.head()`, para visualizar mais linhas apenas precisamos colocar o número de linhas que queremos dentro dos parenteses, caso não colocamos nada de parâmetro irá aparecer 5 primeiras linhas."
      ]
    },
    {
      "cell_type": "code",
      "metadata": {
        "colab": {
          "base_uri": "https://localhost:8080/",
          "height": 275
        },
        "id": "psj2UxF9kwLd",
        "outputId": "79b5eb6b-f1b2-4c92-a0e2-bf9829fb6f42"
      },
      "source": [
        "df_clientes_cadastrados.head()"
      ],
      "execution_count": 3,
      "outputs": [
        {
          "output_type": "execute_result",
          "data": {
            "text/html": [
              "<div>\n",
              "<style scoped>\n",
              "    .dataframe tbody tr th:only-of-type {\n",
              "        vertical-align: middle;\n",
              "    }\n",
              "\n",
              "    .dataframe tbody tr th {\n",
              "        vertical-align: top;\n",
              "    }\n",
              "\n",
              "    .dataframe thead th {\n",
              "        text-align: right;\n",
              "    }\n",
              "</style>\n",
              "<table border=\"1\" class=\"dataframe\">\n",
              "  <thead>\n",
              "    <tr style=\"text-align: right;\">\n",
              "      <th></th>\n",
              "      <th>ID_Cliente</th>\n",
              "      <th>Genero</th>\n",
              "      <th>Tem_Carro</th>\n",
              "      <th>Tem_Casa_Propria</th>\n",
              "      <th>Qtd_Filhos</th>\n",
              "      <th>Rendimento_Anual</th>\n",
              "      <th>Categoria_de_renda</th>\n",
              "      <th>Grau_Escolaridade</th>\n",
              "      <th>Estado_Civil</th>\n",
              "      <th>Moradia</th>\n",
              "      <th>Idade</th>\n",
              "      <th>Tem_Celular</th>\n",
              "      <th>Tem_telefone_trabalho</th>\n",
              "      <th>Tem_telefone_fixo</th>\n",
              "      <th>Tem_email</th>\n",
              "      <th>Ocupacao</th>\n",
              "      <th>Tamanho_Familia</th>\n",
              "      <th>Anos_empregado</th>\n",
              "    </tr>\n",
              "  </thead>\n",
              "  <tbody>\n",
              "    <tr>\n",
              "      <th>0</th>\n",
              "      <td>5008804</td>\n",
              "      <td>H</td>\n",
              "      <td>1</td>\n",
              "      <td>1</td>\n",
              "      <td>0</td>\n",
              "      <td>427500.0</td>\n",
              "      <td>Empregado</td>\n",
              "      <td>Ensino superior</td>\n",
              "      <td>Uniao estavel</td>\n",
              "      <td>Alugado</td>\n",
              "      <td>33.0</td>\n",
              "      <td>1</td>\n",
              "      <td>1</td>\n",
              "      <td>0</td>\n",
              "      <td>0</td>\n",
              "      <td>Outros</td>\n",
              "      <td>2.0</td>\n",
              "      <td>12.4</td>\n",
              "    </tr>\n",
              "    <tr>\n",
              "      <th>1</th>\n",
              "      <td>5008805</td>\n",
              "      <td>H</td>\n",
              "      <td>1</td>\n",
              "      <td>1</td>\n",
              "      <td>0</td>\n",
              "      <td>427500.0</td>\n",
              "      <td>Empregado</td>\n",
              "      <td>Ensino superior</td>\n",
              "      <td>Uniao estavel</td>\n",
              "      <td>Alugado</td>\n",
              "      <td>33.0</td>\n",
              "      <td>1</td>\n",
              "      <td>1</td>\n",
              "      <td>0</td>\n",
              "      <td>0</td>\n",
              "      <td>Outros</td>\n",
              "      <td>2.0</td>\n",
              "      <td>12.4</td>\n",
              "    </tr>\n",
              "    <tr>\n",
              "      <th>2</th>\n",
              "      <td>5008806</td>\n",
              "      <td>H</td>\n",
              "      <td>1</td>\n",
              "      <td>1</td>\n",
              "      <td>0</td>\n",
              "      <td>112500.0</td>\n",
              "      <td>Empregado</td>\n",
              "      <td>Ensino medio</td>\n",
              "      <td>Casado</td>\n",
              "      <td>Casa propria</td>\n",
              "      <td>59.0</td>\n",
              "      <td>1</td>\n",
              "      <td>0</td>\n",
              "      <td>0</td>\n",
              "      <td>0</td>\n",
              "      <td>Seguranca</td>\n",
              "      <td>2.0</td>\n",
              "      <td>3.1</td>\n",
              "    </tr>\n",
              "    <tr>\n",
              "      <th>3</th>\n",
              "      <td>5008808</td>\n",
              "      <td>M</td>\n",
              "      <td>0</td>\n",
              "      <td>1</td>\n",
              "      <td>0</td>\n",
              "      <td>270000.0</td>\n",
              "      <td>Associado comercial</td>\n",
              "      <td>Ensino medio</td>\n",
              "      <td>Solteiro</td>\n",
              "      <td>Casa propria</td>\n",
              "      <td>52.0</td>\n",
              "      <td>1</td>\n",
              "      <td>0</td>\n",
              "      <td>1</td>\n",
              "      <td>1</td>\n",
              "      <td>Venda</td>\n",
              "      <td>1.0</td>\n",
              "      <td>8.4</td>\n",
              "    </tr>\n",
              "    <tr>\n",
              "      <th>4</th>\n",
              "      <td>5008809</td>\n",
              "      <td>M</td>\n",
              "      <td>0</td>\n",
              "      <td>1</td>\n",
              "      <td>0</td>\n",
              "      <td>270000.0</td>\n",
              "      <td>Associado comercial</td>\n",
              "      <td>Ensino medio</td>\n",
              "      <td>Solteiro</td>\n",
              "      <td>Casa propria</td>\n",
              "      <td>52.0</td>\n",
              "      <td>1</td>\n",
              "      <td>0</td>\n",
              "      <td>1</td>\n",
              "      <td>1</td>\n",
              "      <td>Venda</td>\n",
              "      <td>1.0</td>\n",
              "      <td>8.4</td>\n",
              "    </tr>\n",
              "  </tbody>\n",
              "</table>\n",
              "</div>"
            ],
            "text/plain": [
              "   ID_Cliente Genero  Tem_Carro  ...   Ocupacao  Tamanho_Familia  Anos_empregado\n",
              "0     5008804      H          1  ...     Outros              2.0            12.4\n",
              "1     5008805      H          1  ...     Outros              2.0            12.4\n",
              "2     5008806      H          1  ...  Seguranca              2.0             3.1\n",
              "3     5008808      M          0  ...      Venda              1.0             8.4\n",
              "4     5008809      M          0  ...      Venda              1.0             8.4\n",
              "\n",
              "[5 rows x 18 columns]"
            ]
          },
          "metadata": {},
          "execution_count": 3
        }
      ]
    },
    {
      "cell_type": "markdown",
      "metadata": {
        "id": "68XwgHL5ftq4"
      },
      "source": [
        "Para verificar quantas colunas e quantas colunas temos, apenas precisamos usar o `.shape` que é escrito da seguinte forma: `(linhas, Colunas)`.\n",
        "\n",
        "Então temos 438.557 linhas e 18 colunas.\n"
      ]
    },
    {
      "cell_type": "code",
      "metadata": {
        "colab": {
          "base_uri": "https://localhost:8080/"
        },
        "id": "dBwNC1IJlCRS",
        "outputId": "e8624dc2-ceed-40c8-cd1a-7c827daba706"
      },
      "source": [
        "df_clientes_cadastrados.shape"
      ],
      "execution_count": 4,
      "outputs": [
        {
          "output_type": "execute_result",
          "data": {
            "text/plain": [
              "(438557, 18)"
            ]
          },
          "metadata": {},
          "execution_count": 4
        }
      ]
    },
    {
      "cell_type": "markdown",
      "metadata": {
        "id": "Kwltl7OOgA-w"
      },
      "source": [
        "Vamos averiguar se cada linha é um cliente diferente. Como podemos ver abaixo, tem algums clientes que aparecem em duas linhas diferentes.\n"
      ]
    },
    {
      "cell_type": "code",
      "metadata": {
        "colab": {
          "base_uri": "https://localhost:8080/"
        },
        "id": "3LbaF2j2lKdy",
        "outputId": "ed3c0cd4-20ef-4b91-9d73-99ce0977d92f"
      },
      "source": [
        "df_clientes_cadastrados['ID_Cliente'].value_counts()"
      ],
      "execution_count": 5,
      "outputs": [
        {
          "output_type": "execute_result",
          "data": {
            "text/plain": [
              "7603224    2\n",
              "7742853    2\n",
              "7836711    2\n",
              "7091721    2\n",
              "7022327    2\n",
              "          ..\n",
              "5372264    1\n",
              "6412652    1\n",
              "6410605    1\n",
              "6367602    1\n",
              "6291456    1\n",
              "Name: ID_Cliente, Length: 438510, dtype: int64"
            ]
          },
          "metadata": {},
          "execution_count": 5
        }
      ]
    },
    {
      "cell_type": "markdown",
      "metadata": {
        "id": "7YVAzsUugQMf"
      },
      "source": [
        "Olhando quantos temos de duplicados por ID utilizando o `.duplicated()` e o parâmatro `keep = False`, que significa que ele vai pegar todos os duplicados."
      ]
    },
    {
      "cell_type": "code",
      "metadata": {
        "colab": {
          "base_uri": "https://localhost:8080/"
        },
        "id": "fLiCAFzBnO3Z",
        "outputId": "e8833ec1-408f-4f9d-ce86-779a9d6f7bc8"
      },
      "source": [
        "df_clientes_cadastrados[df_clientes_cadastrados['ID_Cliente'].duplicated(keep=False)].shape"
      ],
      "execution_count": 6,
      "outputs": [
        {
          "output_type": "execute_result",
          "data": {
            "text/plain": [
              "(94, 18)"
            ]
          },
          "metadata": {},
          "execution_count": 6
        }
      ]
    },
    {
      "cell_type": "markdown",
      "metadata": {
        "id": "7-Slp1Urgxgv"
      },
      "source": [
        "Veja que os IDs duplicados o genero sempre muda, sempre um é M e outro é F\n"
      ]
    },
    {
      "cell_type": "code",
      "metadata": {
        "colab": {
          "base_uri": "https://localhost:8080/",
          "height": 609
        },
        "id": "R815Zq2hn_Bz",
        "outputId": "5168a88d-31df-46bd-ca36-64968ac0e3ec"
      },
      "source": [
        "df_clientes_cadastrados[df_clientes_cadastrados['ID_Cliente'].duplicated(keep=False)].sort_values(by='ID_Cliente')"
      ],
      "execution_count": 7,
      "outputs": [
        {
          "output_type": "execute_result",
          "data": {
            "text/html": [
              "<div>\n",
              "<style scoped>\n",
              "    .dataframe tbody tr th:only-of-type {\n",
              "        vertical-align: middle;\n",
              "    }\n",
              "\n",
              "    .dataframe tbody tr th {\n",
              "        vertical-align: top;\n",
              "    }\n",
              "\n",
              "    .dataframe thead th {\n",
              "        text-align: right;\n",
              "    }\n",
              "</style>\n",
              "<table border=\"1\" class=\"dataframe\">\n",
              "  <thead>\n",
              "    <tr style=\"text-align: right;\">\n",
              "      <th></th>\n",
              "      <th>ID_Cliente</th>\n",
              "      <th>Genero</th>\n",
              "      <th>Tem_Carro</th>\n",
              "      <th>Tem_Casa_Propria</th>\n",
              "      <th>Qtd_Filhos</th>\n",
              "      <th>Rendimento_Anual</th>\n",
              "      <th>Categoria_de_renda</th>\n",
              "      <th>Grau_Escolaridade</th>\n",
              "      <th>Estado_Civil</th>\n",
              "      <th>Moradia</th>\n",
              "      <th>Idade</th>\n",
              "      <th>Tem_Celular</th>\n",
              "      <th>Tem_telefone_trabalho</th>\n",
              "      <th>Tem_telefone_fixo</th>\n",
              "      <th>Tem_email</th>\n",
              "      <th>Ocupacao</th>\n",
              "      <th>Tamanho_Familia</th>\n",
              "      <th>Anos_empregado</th>\n",
              "    </tr>\n",
              "  </thead>\n",
              "  <tbody>\n",
              "    <tr>\n",
              "      <th>426818</th>\n",
              "      <td>7022197</td>\n",
              "      <td>H</td>\n",
              "      <td>1</td>\n",
              "      <td>1</td>\n",
              "      <td>3</td>\n",
              "      <td>135000.0</td>\n",
              "      <td>Empregado</td>\n",
              "      <td>Ensino medio</td>\n",
              "      <td>Casado</td>\n",
              "      <td>Casa propria</td>\n",
              "      <td>33.0</td>\n",
              "      <td>1</td>\n",
              "      <td>0</td>\n",
              "      <td>0</td>\n",
              "      <td>1</td>\n",
              "      <td>Construcao Civil</td>\n",
              "      <td>5.0</td>\n",
              "      <td>2.0</td>\n",
              "    </tr>\n",
              "    <tr>\n",
              "      <th>425023</th>\n",
              "      <td>7022197</td>\n",
              "      <td>M</td>\n",
              "      <td>0</td>\n",
              "      <td>1</td>\n",
              "      <td>0</td>\n",
              "      <td>450000.0</td>\n",
              "      <td>Associado comercial</td>\n",
              "      <td>Ensino superior</td>\n",
              "      <td>Separado</td>\n",
              "      <td>Casa propria</td>\n",
              "      <td>54.0</td>\n",
              "      <td>1</td>\n",
              "      <td>0</td>\n",
              "      <td>0</td>\n",
              "      <td>1</td>\n",
              "      <td>Outros</td>\n",
              "      <td>1.0</td>\n",
              "      <td>4.9</td>\n",
              "    </tr>\n",
              "    <tr>\n",
              "      <th>431545</th>\n",
              "      <td>7022327</td>\n",
              "      <td>M</td>\n",
              "      <td>0</td>\n",
              "      <td>1</td>\n",
              "      <td>0</td>\n",
              "      <td>135000.0</td>\n",
              "      <td>Associado comercial</td>\n",
              "      <td>Ensino medio</td>\n",
              "      <td>Solteiro</td>\n",
              "      <td>Casa propria</td>\n",
              "      <td>40.0</td>\n",
              "      <td>1</td>\n",
              "      <td>0</td>\n",
              "      <td>0</td>\n",
              "      <td>0</td>\n",
              "      <td>Alta tecnologia</td>\n",
              "      <td>1.0</td>\n",
              "      <td>14.5</td>\n",
              "    </tr>\n",
              "    <tr>\n",
              "      <th>431911</th>\n",
              "      <td>7022327</td>\n",
              "      <td>H</td>\n",
              "      <td>1</td>\n",
              "      <td>1</td>\n",
              "      <td>0</td>\n",
              "      <td>256500.0</td>\n",
              "      <td>Associado comercial</td>\n",
              "      <td>Ensino superior</td>\n",
              "      <td>Casado</td>\n",
              "      <td>Casa propria</td>\n",
              "      <td>59.0</td>\n",
              "      <td>1</td>\n",
              "      <td>0</td>\n",
              "      <td>0</td>\n",
              "      <td>1</td>\n",
              "      <td>Equipe principal</td>\n",
              "      <td>2.0</td>\n",
              "      <td>4.6</td>\n",
              "    </tr>\n",
              "    <tr>\n",
              "      <th>425486</th>\n",
              "      <td>7023108</td>\n",
              "      <td>H</td>\n",
              "      <td>1</td>\n",
              "      <td>1</td>\n",
              "      <td>1</td>\n",
              "      <td>67500.0</td>\n",
              "      <td>Empregado</td>\n",
              "      <td>Ensino medio</td>\n",
              "      <td>Casado</td>\n",
              "      <td>Casa propria</td>\n",
              "      <td>42.0</td>\n",
              "      <td>1</td>\n",
              "      <td>1</td>\n",
              "      <td>0</td>\n",
              "      <td>0</td>\n",
              "      <td>Equipe principal</td>\n",
              "      <td>3.0</td>\n",
              "      <td>4.6</td>\n",
              "    </tr>\n",
              "    <tr>\n",
              "      <th>...</th>\n",
              "      <td>...</td>\n",
              "      <td>...</td>\n",
              "      <td>...</td>\n",
              "      <td>...</td>\n",
              "      <td>...</td>\n",
              "      <td>...</td>\n",
              "      <td>...</td>\n",
              "      <td>...</td>\n",
              "      <td>...</td>\n",
              "      <td>...</td>\n",
              "      <td>...</td>\n",
              "      <td>...</td>\n",
              "      <td>...</td>\n",
              "      <td>...</td>\n",
              "      <td>...</td>\n",
              "      <td>...</td>\n",
              "      <td>...</td>\n",
              "      <td>...</td>\n",
              "    </tr>\n",
              "    <tr>\n",
              "      <th>426563</th>\n",
              "      <td>7836711</td>\n",
              "      <td>M</td>\n",
              "      <td>0</td>\n",
              "      <td>1</td>\n",
              "      <td>2</td>\n",
              "      <td>292500.0</td>\n",
              "      <td>Empregado</td>\n",
              "      <td>Ensino superior</td>\n",
              "      <td>Casado</td>\n",
              "      <td>Casa propria</td>\n",
              "      <td>38.0</td>\n",
              "      <td>1</td>\n",
              "      <td>0</td>\n",
              "      <td>1</td>\n",
              "      <td>0</td>\n",
              "      <td>Contabilidade</td>\n",
              "      <td>4.0</td>\n",
              "      <td>12.0</td>\n",
              "    </tr>\n",
              "    <tr>\n",
              "      <th>421464</th>\n",
              "      <td>7836971</td>\n",
              "      <td>H</td>\n",
              "      <td>1</td>\n",
              "      <td>0</td>\n",
              "      <td>1</td>\n",
              "      <td>157500.0</td>\n",
              "      <td>Empregado</td>\n",
              "      <td>Ensino medio</td>\n",
              "      <td>Casado</td>\n",
              "      <td>Casa propria</td>\n",
              "      <td>38.0</td>\n",
              "      <td>1</td>\n",
              "      <td>0</td>\n",
              "      <td>0</td>\n",
              "      <td>0</td>\n",
              "      <td>Outros</td>\n",
              "      <td>3.0</td>\n",
              "      <td>15.1</td>\n",
              "    </tr>\n",
              "    <tr>\n",
              "      <th>428620</th>\n",
              "      <td>7836971</td>\n",
              "      <td>M</td>\n",
              "      <td>0</td>\n",
              "      <td>1</td>\n",
              "      <td>0</td>\n",
              "      <td>103500.0</td>\n",
              "      <td>Empregado</td>\n",
              "      <td>Ensino medio</td>\n",
              "      <td>Uniao estavel</td>\n",
              "      <td>Casa propria</td>\n",
              "      <td>37.0</td>\n",
              "      <td>1</td>\n",
              "      <td>0</td>\n",
              "      <td>1</td>\n",
              "      <td>0</td>\n",
              "      <td>Venda</td>\n",
              "      <td>2.0</td>\n",
              "      <td>7.7</td>\n",
              "    </tr>\n",
              "    <tr>\n",
              "      <th>422068</th>\n",
              "      <td>7838075</td>\n",
              "      <td>H</td>\n",
              "      <td>0</td>\n",
              "      <td>1</td>\n",
              "      <td>0</td>\n",
              "      <td>337500.0</td>\n",
              "      <td>Associado comercial</td>\n",
              "      <td>Ensino medio</td>\n",
              "      <td>Casado</td>\n",
              "      <td>Casa propria</td>\n",
              "      <td>50.0</td>\n",
              "      <td>1</td>\n",
              "      <td>0</td>\n",
              "      <td>0</td>\n",
              "      <td>1</td>\n",
              "      <td>Motorista</td>\n",
              "      <td>2.0</td>\n",
              "      <td>3.5</td>\n",
              "    </tr>\n",
              "    <tr>\n",
              "      <th>423702</th>\n",
              "      <td>7838075</td>\n",
              "      <td>M</td>\n",
              "      <td>1</td>\n",
              "      <td>1</td>\n",
              "      <td>0</td>\n",
              "      <td>315000.0</td>\n",
              "      <td>Associado comercial</td>\n",
              "      <td>Ensino superior</td>\n",
              "      <td>Solteiro</td>\n",
              "      <td>Casa propria</td>\n",
              "      <td>29.0</td>\n",
              "      <td>1</td>\n",
              "      <td>0</td>\n",
              "      <td>0</td>\n",
              "      <td>1</td>\n",
              "      <td>Outros</td>\n",
              "      <td>1.0</td>\n",
              "      <td>4.5</td>\n",
              "    </tr>\n",
              "  </tbody>\n",
              "</table>\n",
              "<p>94 rows × 18 columns</p>\n",
              "</div>"
            ],
            "text/plain": [
              "        ID_Cliente Genero  ...  Tamanho_Familia  Anos_empregado\n",
              "426818     7022197      H  ...              5.0             2.0\n",
              "425023     7022197      M  ...              1.0             4.9\n",
              "431545     7022327      M  ...              1.0            14.5\n",
              "431911     7022327      H  ...              2.0             4.6\n",
              "425486     7023108      H  ...              3.0             4.6\n",
              "...            ...    ...  ...              ...             ...\n",
              "426563     7836711      M  ...              4.0            12.0\n",
              "421464     7836971      H  ...              3.0            15.1\n",
              "428620     7836971      M  ...              2.0             7.7\n",
              "422068     7838075      H  ...              2.0             3.5\n",
              "423702     7838075      M  ...              1.0             4.5\n",
              "\n",
              "[94 rows x 18 columns]"
            ]
          },
          "metadata": {},
          "execution_count": 7
        }
      ]
    },
    {
      "cell_type": "markdown",
      "metadata": {
        "id": "6eGTfBr0g723"
      },
      "source": [
        "Então vamos criar uma variável só com os IDs repetidos."
      ]
    },
    {
      "cell_type": "code",
      "metadata": {
        "id": "RsnXwUDBoijh"
      },
      "source": [
        "id_repetidos = df_clientes_cadastrados[df_clientes_cadastrados['ID_Cliente'].duplicated(keep=False)]['ID_Cliente']"
      ],
      "execution_count": 8,
      "outputs": []
    },
    {
      "cell_type": "markdown",
      "metadata": {
        "id": "BobTIu-ThHJQ"
      },
      "source": [
        "Agora vamos remover os IDs repetidos e verificar se tem algum ID com a soma igual a 2."
      ]
    },
    {
      "cell_type": "code",
      "metadata": {
        "id": "O5XF1-cRouhY"
      },
      "source": [
        "df_clientes_cadastrados_unicos = df_clientes_cadastrados.drop(id_repetidos.index)"
      ],
      "execution_count": 9,
      "outputs": []
    },
    {
      "cell_type": "code",
      "metadata": {
        "colab": {
          "base_uri": "https://localhost:8080/"
        },
        "id": "n-MD9E72pCRa",
        "outputId": "0b30f40f-05ad-426e-bf00-79354864c76e"
      },
      "source": [
        "df_clientes_cadastrados_unicos['ID_Cliente'].value_counts()"
      ],
      "execution_count": 10,
      "outputs": [
        {
          "output_type": "execute_result",
          "data": {
            "text/plain": [
              "6293503    1\n",
              "5166449    1\n",
              "6210931    1\n",
              "5174645    1\n",
              "5170551    1\n",
              "          ..\n",
              "7410037    1\n",
              "6357367    1\n",
              "6375806    1\n",
              "5683584    1\n",
              "6291456    1\n",
              "Name: ID_Cliente, Length: 438463, dtype: int64"
            ]
          },
          "metadata": {},
          "execution_count": 10
        }
      ]
    },
    {
      "cell_type": "markdown",
      "metadata": {
        "id": "oXBs2VWPheq6"
      },
      "source": [
        "Vamos utilizar um `.info()` para entender quais são os tipo de **dados das colunas** e se a coluna possui `valores nulos`."
      ]
    },
    {
      "cell_type": "code",
      "metadata": {
        "colab": {
          "base_uri": "https://localhost:8080/"
        },
        "id": "bs23-gROnz81",
        "outputId": "d4b7cf26-ba6f-4579-a154-b774376e35f9"
      },
      "source": [
        "df_clientes_cadastrados_unicos.info()"
      ],
      "execution_count": 11,
      "outputs": [
        {
          "output_type": "stream",
          "name": "stdout",
          "text": [
            "<class 'pandas.core.frame.DataFrame'>\n",
            "Int64Index: 438463 entries, 0 to 438556\n",
            "Data columns (total 18 columns):\n",
            " #   Column                 Non-Null Count   Dtype  \n",
            "---  ------                 --------------   -----  \n",
            " 0   ID_Cliente             438463 non-null  int64  \n",
            " 1   Genero                 438463 non-null  object \n",
            " 2   Tem_Carro              438463 non-null  int64  \n",
            " 3   Tem_Casa_Propria       438463 non-null  int64  \n",
            " 4   Qtd_Filhos             438463 non-null  int64  \n",
            " 5   Rendimento_Anual       438463 non-null  float64\n",
            " 6   Categoria_de_renda     438463 non-null  object \n",
            " 7   Grau_Escolaridade      438463 non-null  object \n",
            " 8   Estado_Civil           438463 non-null  object \n",
            " 9   Moradia                438463 non-null  object \n",
            " 10  Idade                  438463 non-null  float64\n",
            " 11  Tem_Celular            438463 non-null  int64  \n",
            " 12  Tem_telefone_trabalho  438463 non-null  int64  \n",
            " 13  Tem_telefone_fixo      438463 non-null  int64  \n",
            " 14  Tem_email              438463 non-null  int64  \n",
            " 15  Ocupacao               438463 non-null  object \n",
            " 16  Tamanho_Familia        438463 non-null  float64\n",
            " 17  Anos_empregado         438463 non-null  float64\n",
            "dtypes: float64(4), int64(8), object(6)\n",
            "memory usage: 63.6+ MB\n"
          ]
        }
      ]
    },
    {
      "cell_type": "markdown",
      "metadata": {
        "id": "r7cfzwm3hwF4"
      },
      "source": [
        "Para verificar se possui outliers e as estatísticas básicas das colunas utilizamos o `.describe()`."
      ]
    },
    {
      "cell_type": "code",
      "metadata": {
        "colab": {
          "base_uri": "https://localhost:8080/",
          "height": 317
        },
        "id": "Ox2877BMtmSx",
        "outputId": "cbb827bf-49f8-4fef-905e-5553096b8356"
      },
      "source": [
        "df_clientes_cadastrados_unicos.describe()"
      ],
      "execution_count": 12,
      "outputs": [
        {
          "output_type": "execute_result",
          "data": {
            "text/html": [
              "<div>\n",
              "<style scoped>\n",
              "    .dataframe tbody tr th:only-of-type {\n",
              "        vertical-align: middle;\n",
              "    }\n",
              "\n",
              "    .dataframe tbody tr th {\n",
              "        vertical-align: top;\n",
              "    }\n",
              "\n",
              "    .dataframe thead th {\n",
              "        text-align: right;\n",
              "    }\n",
              "</style>\n",
              "<table border=\"1\" class=\"dataframe\">\n",
              "  <thead>\n",
              "    <tr style=\"text-align: right;\">\n",
              "      <th></th>\n",
              "      <th>ID_Cliente</th>\n",
              "      <th>Tem_Carro</th>\n",
              "      <th>Tem_Casa_Propria</th>\n",
              "      <th>Qtd_Filhos</th>\n",
              "      <th>Rendimento_Anual</th>\n",
              "      <th>Idade</th>\n",
              "      <th>Tem_Celular</th>\n",
              "      <th>Tem_telefone_trabalho</th>\n",
              "      <th>Tem_telefone_fixo</th>\n",
              "      <th>Tem_email</th>\n",
              "      <th>Tamanho_Familia</th>\n",
              "      <th>Anos_empregado</th>\n",
              "    </tr>\n",
              "  </thead>\n",
              "  <tbody>\n",
              "    <tr>\n",
              "      <th>count</th>\n",
              "      <td>4.384630e+05</td>\n",
              "      <td>438463.000000</td>\n",
              "      <td>438463.000000</td>\n",
              "      <td>438463.000000</td>\n",
              "      <td>4.384630e+05</td>\n",
              "      <td>438463.000000</td>\n",
              "      <td>438463.0</td>\n",
              "      <td>438463.000000</td>\n",
              "      <td>438463.000000</td>\n",
              "      <td>438463.000000</td>\n",
              "      <td>438463.000000</td>\n",
              "      <td>438463.000000</td>\n",
              "    </tr>\n",
              "    <tr>\n",
              "      <th>mean</th>\n",
              "      <td>6.021894e+06</td>\n",
              "      <td>0.371906</td>\n",
              "      <td>0.693352</td>\n",
              "      <td>0.427384</td>\n",
              "      <td>1.875220e+05</td>\n",
              "      <td>43.834032</td>\n",
              "      <td>1.0</td>\n",
              "      <td>0.206129</td>\n",
              "      <td>0.287762</td>\n",
              "      <td>0.108196</td>\n",
              "      <td>2.194461</td>\n",
              "      <td>-165.936036</td>\n",
              "    </tr>\n",
              "    <tr>\n",
              "      <th>std</th>\n",
              "      <td>5.713554e+05</td>\n",
              "      <td>0.483314</td>\n",
              "      <td>0.461103</td>\n",
              "      <td>0.724879</td>\n",
              "      <td>1.100832e+05</td>\n",
              "      <td>11.472815</td>\n",
              "      <td>0.0</td>\n",
              "      <td>0.404525</td>\n",
              "      <td>0.452720</td>\n",
              "      <td>0.310628</td>\n",
              "      <td>0.897194</td>\n",
              "      <td>380.201131</td>\n",
              "    </tr>\n",
              "    <tr>\n",
              "      <th>min</th>\n",
              "      <td>5.008804e+06</td>\n",
              "      <td>0.000000</td>\n",
              "      <td>0.000000</td>\n",
              "      <td>0.000000</td>\n",
              "      <td>2.610000e+04</td>\n",
              "      <td>21.000000</td>\n",
              "      <td>1.0</td>\n",
              "      <td>0.000000</td>\n",
              "      <td>0.000000</td>\n",
              "      <td>0.000000</td>\n",
              "      <td>1.000000</td>\n",
              "      <td>-1000.700000</td>\n",
              "    </tr>\n",
              "    <tr>\n",
              "      <th>25%</th>\n",
              "      <td>5.609340e+06</td>\n",
              "      <td>0.000000</td>\n",
              "      <td>0.000000</td>\n",
              "      <td>0.000000</td>\n",
              "      <td>1.215000e+05</td>\n",
              "      <td>34.000000</td>\n",
              "      <td>1.0</td>\n",
              "      <td>0.000000</td>\n",
              "      <td>0.000000</td>\n",
              "      <td>0.000000</td>\n",
              "      <td>2.000000</td>\n",
              "      <td>1.000000</td>\n",
              "    </tr>\n",
              "    <tr>\n",
              "      <th>50%</th>\n",
              "      <td>6.047690e+06</td>\n",
              "      <td>0.000000</td>\n",
              "      <td>1.000000</td>\n",
              "      <td>0.000000</td>\n",
              "      <td>1.611000e+05</td>\n",
              "      <td>43.000000</td>\n",
              "      <td>1.0</td>\n",
              "      <td>0.000000</td>\n",
              "      <td>0.000000</td>\n",
              "      <td>0.000000</td>\n",
              "      <td>2.000000</td>\n",
              "      <td>4.000000</td>\n",
              "    </tr>\n",
              "    <tr>\n",
              "      <th>75%</th>\n",
              "      <td>6.454118e+06</td>\n",
              "      <td>1.000000</td>\n",
              "      <td>1.000000</td>\n",
              "      <td>1.000000</td>\n",
              "      <td>2.250000e+05</td>\n",
              "      <td>53.000000</td>\n",
              "      <td>1.0</td>\n",
              "      <td>0.000000</td>\n",
              "      <td>1.000000</td>\n",
              "      <td>0.000000</td>\n",
              "      <td>3.000000</td>\n",
              "      <td>8.500000</td>\n",
              "    </tr>\n",
              "    <tr>\n",
              "      <th>max</th>\n",
              "      <td>7.999952e+06</td>\n",
              "      <td>1.000000</td>\n",
              "      <td>1.000000</td>\n",
              "      <td>19.000000</td>\n",
              "      <td>6.750000e+06</td>\n",
              "      <td>69.000000</td>\n",
              "      <td>1.0</td>\n",
              "      <td>1.000000</td>\n",
              "      <td>1.000000</td>\n",
              "      <td>1.000000</td>\n",
              "      <td>20.000000</td>\n",
              "      <td>48.000000</td>\n",
              "    </tr>\n",
              "  </tbody>\n",
              "</table>\n",
              "</div>"
            ],
            "text/plain": [
              "         ID_Cliente      Tem_Carro  ...  Tamanho_Familia  Anos_empregado\n",
              "count  4.384630e+05  438463.000000  ...    438463.000000   438463.000000\n",
              "mean   6.021894e+06       0.371906  ...         2.194461     -165.936036\n",
              "std    5.713554e+05       0.483314  ...         0.897194      380.201131\n",
              "min    5.008804e+06       0.000000  ...         1.000000    -1000.700000\n",
              "25%    5.609340e+06       0.000000  ...         2.000000        1.000000\n",
              "50%    6.047690e+06       0.000000  ...         2.000000        4.000000\n",
              "75%    6.454118e+06       1.000000  ...         3.000000        8.500000\n",
              "max    7.999952e+06       1.000000  ...        20.000000       48.000000\n",
              "\n",
              "[8 rows x 12 columns]"
            ]
          },
          "metadata": {},
          "execution_count": 12
        }
      ]
    },
    {
      "cell_type": "markdown",
      "metadata": {
        "id": "G4QJUhQouvIo"
      },
      "source": [
        "Pegando só a coluna Anos_empregado, podemos verificar que olhando para o min, podemos ver que está um númeor gritante e ninguem trabalha -1000 anos, então precisamos tratar essa coluna."
      ]
    },
    {
      "cell_type": "code",
      "metadata": {
        "colab": {
          "base_uri": "https://localhost:8080/"
        },
        "id": "vwFpULsWuuJA",
        "outputId": "2f15b411-ccc3-4b0f-b4a7-fb1e384eaaaa"
      },
      "source": [
        "df_clientes_cadastrados_unicos['Anos_empregado'].describe()"
      ],
      "execution_count": 13,
      "outputs": [
        {
          "output_type": "execute_result",
          "data": {
            "text/plain": [
              "count    438463.000000\n",
              "mean       -165.936036\n",
              "std         380.201131\n",
              "min       -1000.700000\n",
              "25%           1.000000\n",
              "50%           4.000000\n",
              "75%           8.500000\n",
              "max          48.000000\n",
              "Name: Anos_empregado, dtype: float64"
            ]
          },
          "metadata": {},
          "execution_count": 13
        }
      ]
    },
    {
      "cell_type": "markdown",
      "metadata": {
        "id": "e1YgH7ceiS3o"
      },
      "source": [
        "Vamos criar um `.query() ` olha a distribuição da coluna e veja que a grande **maioria é pensionista**, então não podemos remover todos que estão menor ou igual a zero."
      ]
    },
    {
      "cell_type": "code",
      "metadata": {
        "colab": {
          "base_uri": "https://localhost:8080/"
        },
        "id": "76uXcWuhuzch",
        "outputId": "248bc09d-aa17-4042-86f5-cc63127d1a4f"
      },
      "source": [
        "df_clientes_cadastrados_unicos.query(\"Anos_empregado <=0\")[['Anos_empregado', \"Categoria_de_renda\"]].value_counts()"
      ],
      "execution_count": 14,
      "outputs": [
        {
          "output_type": "execute_result",
          "data": {
            "text/plain": [
              "Anos_empregado  Categoria_de_renda \n",
              "-1000.7         Pensionista            75314\n",
              " 0.0            Empregado                 26\n",
              "                Servidor publico          11\n",
              "                Associado comercial        7\n",
              "dtype: int64"
            ]
          },
          "metadata": {},
          "execution_count": 14
        }
      ]
    },
    {
      "cell_type": "markdown",
      "metadata": {
        "id": "26LruUJGilq3"
      },
      "source": [
        "Então para não afetar a quantidade de dados importante vamos fazer uma substituição dos **-1000.7 para -1** utilizando o `.replace()` e verificar a melhora."
      ]
    },
    {
      "cell_type": "code",
      "metadata": {
        "colab": {
          "base_uri": "https://localhost:8080/"
        },
        "id": "GwRXOnqpvRY_",
        "outputId": "d85f9da9-775a-426b-be54-b39f2cdb67b6"
      },
      "source": [
        "df_clientes_cadastrados_unicos['Anos_empregado'] = df_clientes_cadastrados_unicos['Anos_empregado'].replace(-1000.7, -1)\n",
        "df_clientes_cadastrados_unicos['Anos_empregado'].describe()"
      ],
      "execution_count": 15,
      "outputs": [
        {
          "output_type": "execute_result",
          "data": {
            "text/plain": [
              "count    438463.000000\n",
              "mean          5.780633\n",
              "std           6.733151\n",
              "min          -1.000000\n",
              "25%           1.000000\n",
              "50%           4.000000\n",
              "75%           8.500000\n",
              "max          48.000000\n",
              "Name: Anos_empregado, dtype: float64"
            ]
          },
          "metadata": {},
          "execution_count": 15
        }
      ]
    },
    {
      "cell_type": "markdown",
      "metadata": {
        "id": "6FOSIuWXkSm3"
      },
      "source": [
        "Agora vamos remover os outliers do **Rendimento Anual**, para isso vamos remover todos que são **maiores e menores** que a soma da média mais duas vezes o desvio padrão e mostrar quantos estão nessa condição."
      ]
    },
    {
      "cell_type": "code",
      "metadata": {
        "colab": {
          "base_uri": "https://localhost:8080/"
        },
        "id": "FvmNn0qBwGKb",
        "outputId": "d7d538f9-0084-44df-8c25-4795a6cc6081"
      },
      "source": [
        "coluna = df_clientes_cadastrados_unicos['Rendimento_Anual']\n",
        "\n",
        "coluna_med = coluna.mean()\n",
        "coluna_std = coluna.std()\n",
        "\n",
        "limite_sup = coluna_med + (2 * coluna_std)\n",
        "limite_inf = coluna_med - (2 * coluna_std)\n",
        "\n",
        "index_outliers = []\n",
        "\n",
        "for index, valor in coluna.items():\n",
        "  if valor > limite_sup or valor < limite_inf:\n",
        "    index_outliers.append(index)\n",
        "\n",
        "len(index_outliers)"
      ],
      "execution_count": 16,
      "outputs": [
        {
          "output_type": "execute_result",
          "data": {
            "text/plain": [
              "12641"
            ]
          },
          "metadata": {},
          "execution_count": 16
        }
      ]
    },
    {
      "cell_type": "markdown",
      "metadata": {
        "id": "kyg5jgKRlL73"
      },
      "source": [
        "Agora vamos dropar os outliers dos nossos dados e verificar a quantidade de linhas e colunas que sobraram."
      ]
    },
    {
      "cell_type": "code",
      "metadata": {
        "colab": {
          "base_uri": "https://localhost:8080/"
        },
        "id": "9lcfvxogwZNy",
        "outputId": "f2719566-8635-49f9-983c-3074507ae9f8"
      },
      "source": [
        "df_clientes_cadastrados_sem_outliers = df_clientes_cadastrados_unicos.drop(index_outliers)\n",
        "df_clientes_cadastrados_sem_outliers.shape"
      ],
      "execution_count": 17,
      "outputs": [
        {
          "output_type": "execute_result",
          "data": {
            "text/plain": [
              "(425822, 18)"
            ]
          },
          "metadata": {},
          "execution_count": 17
        }
      ]
    },
    {
      "cell_type": "code",
      "metadata": {
        "colab": {
          "base_uri": "https://localhost:8080/",
          "height": 317
        },
        "id": "5KHTR98fwfZP",
        "outputId": "b43ca0cd-5e46-4d2a-b959-38b0e960f455"
      },
      "source": [
        "df_clientes_cadastrados_sem_outliers.describe()"
      ],
      "execution_count": 18,
      "outputs": [
        {
          "output_type": "execute_result",
          "data": {
            "text/html": [
              "<div>\n",
              "<style scoped>\n",
              "    .dataframe tbody tr th:only-of-type {\n",
              "        vertical-align: middle;\n",
              "    }\n",
              "\n",
              "    .dataframe tbody tr th {\n",
              "        vertical-align: top;\n",
              "    }\n",
              "\n",
              "    .dataframe thead th {\n",
              "        text-align: right;\n",
              "    }\n",
              "</style>\n",
              "<table border=\"1\" class=\"dataframe\">\n",
              "  <thead>\n",
              "    <tr style=\"text-align: right;\">\n",
              "      <th></th>\n",
              "      <th>ID_Cliente</th>\n",
              "      <th>Tem_Carro</th>\n",
              "      <th>Tem_Casa_Propria</th>\n",
              "      <th>Qtd_Filhos</th>\n",
              "      <th>Rendimento_Anual</th>\n",
              "      <th>Idade</th>\n",
              "      <th>Tem_Celular</th>\n",
              "      <th>Tem_telefone_trabalho</th>\n",
              "      <th>Tem_telefone_fixo</th>\n",
              "      <th>Tem_email</th>\n",
              "      <th>Tamanho_Familia</th>\n",
              "      <th>Anos_empregado</th>\n",
              "    </tr>\n",
              "  </thead>\n",
              "  <tbody>\n",
              "    <tr>\n",
              "      <th>count</th>\n",
              "      <td>4.258220e+05</td>\n",
              "      <td>425822.000000</td>\n",
              "      <td>425822.000000</td>\n",
              "      <td>425822.000000</td>\n",
              "      <td>425822.000000</td>\n",
              "      <td>425822.000000</td>\n",
              "      <td>425822.0</td>\n",
              "      <td>425822.000000</td>\n",
              "      <td>425822.000000</td>\n",
              "      <td>425822.000000</td>\n",
              "      <td>425822.000000</td>\n",
              "      <td>425822.000000</td>\n",
              "    </tr>\n",
              "    <tr>\n",
              "      <th>mean</th>\n",
              "      <td>6.021517e+06</td>\n",
              "      <td>0.364460</td>\n",
              "      <td>0.692435</td>\n",
              "      <td>0.425314</td>\n",
              "      <td>176384.728083</td>\n",
              "      <td>43.838707</td>\n",
              "      <td>1.0</td>\n",
              "      <td>0.206868</td>\n",
              "      <td>0.286134</td>\n",
              "      <td>0.104739</td>\n",
              "      <td>2.191683</td>\n",
              "      <td>5.744956</td>\n",
              "    </tr>\n",
              "    <tr>\n",
              "      <th>std</th>\n",
              "      <td>5.713306e+05</td>\n",
              "      <td>0.481279</td>\n",
              "      <td>0.461486</td>\n",
              "      <td>0.723577</td>\n",
              "      <td>75033.530551</td>\n",
              "      <td>11.525400</td>\n",
              "      <td>0.0</td>\n",
              "      <td>0.405061</td>\n",
              "      <td>0.451953</td>\n",
              "      <td>0.306217</td>\n",
              "      <td>0.896300</td>\n",
              "      <td>6.736649</td>\n",
              "    </tr>\n",
              "    <tr>\n",
              "      <th>min</th>\n",
              "      <td>5.008806e+06</td>\n",
              "      <td>0.000000</td>\n",
              "      <td>0.000000</td>\n",
              "      <td>0.000000</td>\n",
              "      <td>26100.000000</td>\n",
              "      <td>21.000000</td>\n",
              "      <td>1.0</td>\n",
              "      <td>0.000000</td>\n",
              "      <td>0.000000</td>\n",
              "      <td>0.000000</td>\n",
              "      <td>1.000000</td>\n",
              "      <td>-1.000000</td>\n",
              "    </tr>\n",
              "    <tr>\n",
              "      <th>25%</th>\n",
              "      <td>5.603204e+06</td>\n",
              "      <td>0.000000</td>\n",
              "      <td>0.000000</td>\n",
              "      <td>0.000000</td>\n",
              "      <td>117000.000000</td>\n",
              "      <td>34.000000</td>\n",
              "      <td>1.0</td>\n",
              "      <td>0.000000</td>\n",
              "      <td>0.000000</td>\n",
              "      <td>0.000000</td>\n",
              "      <td>2.000000</td>\n",
              "      <td>1.000000</td>\n",
              "    </tr>\n",
              "    <tr>\n",
              "      <th>50%</th>\n",
              "      <td>6.047739e+06</td>\n",
              "      <td>0.000000</td>\n",
              "      <td>1.000000</td>\n",
              "      <td>0.000000</td>\n",
              "      <td>157500.000000</td>\n",
              "      <td>43.000000</td>\n",
              "      <td>1.0</td>\n",
              "      <td>0.000000</td>\n",
              "      <td>0.000000</td>\n",
              "      <td>0.000000</td>\n",
              "      <td>2.000000</td>\n",
              "      <td>4.000000</td>\n",
              "    </tr>\n",
              "    <tr>\n",
              "      <th>75%</th>\n",
              "      <td>6.454044e+06</td>\n",
              "      <td>1.000000</td>\n",
              "      <td>1.000000</td>\n",
              "      <td>1.000000</td>\n",
              "      <td>225000.000000</td>\n",
              "      <td>53.000000</td>\n",
              "      <td>1.0</td>\n",
              "      <td>0.000000</td>\n",
              "      <td>1.000000</td>\n",
              "      <td>0.000000</td>\n",
              "      <td>3.000000</td>\n",
              "      <td>8.500000</td>\n",
              "    </tr>\n",
              "    <tr>\n",
              "      <th>max</th>\n",
              "      <td>7.999952e+06</td>\n",
              "      <td>1.000000</td>\n",
              "      <td>1.000000</td>\n",
              "      <td>19.000000</td>\n",
              "      <td>405000.000000</td>\n",
              "      <td>69.000000</td>\n",
              "      <td>1.0</td>\n",
              "      <td>1.000000</td>\n",
              "      <td>1.000000</td>\n",
              "      <td>1.000000</td>\n",
              "      <td>20.000000</td>\n",
              "      <td>48.000000</td>\n",
              "    </tr>\n",
              "  </tbody>\n",
              "</table>\n",
              "</div>"
            ],
            "text/plain": [
              "         ID_Cliente      Tem_Carro  ...  Tamanho_Familia  Anos_empregado\n",
              "count  4.258220e+05  425822.000000  ...    425822.000000   425822.000000\n",
              "mean   6.021517e+06       0.364460  ...         2.191683        5.744956\n",
              "std    5.713306e+05       0.481279  ...         0.896300        6.736649\n",
              "min    5.008806e+06       0.000000  ...         1.000000       -1.000000\n",
              "25%    5.603204e+06       0.000000  ...         2.000000        1.000000\n",
              "50%    6.047739e+06       0.000000  ...         2.000000        4.000000\n",
              "75%    6.454044e+06       1.000000  ...         3.000000        8.500000\n",
              "max    7.999952e+06       1.000000  ...        20.000000       48.000000\n",
              "\n",
              "[8 rows x 12 columns]"
            ]
          },
          "metadata": {},
          "execution_count": 18
        }
      ]
    },
    {
      "cell_type": "code",
      "metadata": {
        "colab": {
          "base_uri": "https://localhost:8080/"
        },
        "id": "OXBufiA-lrcK",
        "outputId": "627ea18f-737c-4fbc-8c24-3bd7fc341300"
      },
      "source": [
        "df_clientes_cadastrados_sem_outliers['Tem_Celular'].value_counts()"
      ],
      "execution_count": 21,
      "outputs": [
        {
          "output_type": "execute_result",
          "data": {
            "text/plain": [
              "1    425822\n",
              "Name: Tem_Celular, dtype: int64"
            ]
          },
          "metadata": {},
          "execution_count": 21
        }
      ]
    },
    {
      "cell_type": "markdown",
      "metadata": {
        "id": "o1IJVQMwlT-I"
      },
      "source": [
        "Agora vamos dropar as colunas que não podemos utilizar para criar um modelo preditivo.\n",
        "\n",
        "As colunas removidas serão as colunas `'Genero'` e `'Tem_Celular'`, dentro do nosso dataset  em todas as linhas os clientes tem celular, então não faria diferença em nosso modelo. Já a coluna 'Genero' é irrelevante e tem a possibilidade do modelo discriminar algum gênero, pois o importante é o individuo está adpto ou não a ter crédito ou não, já em um modelo da saúde o gênero pode ser relevante por causa da genética, mas para essa realidade não."
      ]
    },
    {
      "cell_type": "code",
      "metadata": {
        "colab": {
          "base_uri": "https://localhost:8080/"
        },
        "id": "llxRgK52wqQo",
        "outputId": "1484b656-69aa-4e40-8463-04072882d513"
      },
      "source": [
        "df_clientes_cadastrados_tratamento = df_clientes_cadastrados_sem_outliers.drop(['Genero', 'Tem_Celular'], axis=1)\n",
        "df_clientes_cadastrados_tratamento.shape"
      ],
      "execution_count": 22,
      "outputs": [
        {
          "output_type": "execute_result",
          "data": {
            "text/plain": [
              "(425822, 16)"
            ]
          },
          "metadata": {},
          "execution_count": 22
        }
      ]
    },
    {
      "cell_type": "markdown",
      "metadata": {
        "id": "PNr6jiDKqoEq"
      },
      "source": [
        "***\n",
        "#LIMPEZA DA BASE DE CLIENTES APROVADOS\n",
        "***"
      ]
    },
    {
      "cell_type": "markdown",
      "metadata": {
        "id": "m8NGqvRim64A"
      },
      "source": [
        "Agora vamos limpar a base de Clientes Aprovados."
      ]
    },
    {
      "cell_type": "markdown",
      "metadata": {
        "id": "hrUk3e3wm_XI"
      },
      "source": [
        "Primeiramente vamos verificar se cada linha do conjunto de dados é para um cliente. Como podemos perceber abaixo, cada cliente tem diversas linhas.\n"
      ]
    },
    {
      "cell_type": "code",
      "metadata": {
        "colab": {
          "base_uri": "https://localhost:8080/",
          "height": 204
        },
        "id": "7HaXGh8In47x",
        "outputId": "1b500782-7e60-4cc3-9c3f-7e62f1f89fbf"
      },
      "source": [
        "df_clientes_aprovados.head()"
      ],
      "execution_count": 23,
      "outputs": [
        {
          "output_type": "execute_result",
          "data": {
            "text/html": [
              "<div>\n",
              "<style scoped>\n",
              "    .dataframe tbody tr th:only-of-type {\n",
              "        vertical-align: middle;\n",
              "    }\n",
              "\n",
              "    .dataframe tbody tr th {\n",
              "        vertical-align: top;\n",
              "    }\n",
              "\n",
              "    .dataframe thead th {\n",
              "        text-align: right;\n",
              "    }\n",
              "</style>\n",
              "<table border=\"1\" class=\"dataframe\">\n",
              "  <thead>\n",
              "    <tr style=\"text-align: right;\">\n",
              "      <th></th>\n",
              "      <th>ID_Cliente</th>\n",
              "      <th>Mes_referencia</th>\n",
              "      <th>Faixa_atraso</th>\n",
              "    </tr>\n",
              "  </thead>\n",
              "  <tbody>\n",
              "    <tr>\n",
              "      <th>0</th>\n",
              "      <td>5001711</td>\n",
              "      <td>0</td>\n",
              "      <td>nenhum empréstimo</td>\n",
              "    </tr>\n",
              "    <tr>\n",
              "      <th>1</th>\n",
              "      <td>5001711</td>\n",
              "      <td>-1</td>\n",
              "      <td>1-29 dias</td>\n",
              "    </tr>\n",
              "    <tr>\n",
              "      <th>2</th>\n",
              "      <td>5001711</td>\n",
              "      <td>-2</td>\n",
              "      <td>1-29 dias</td>\n",
              "    </tr>\n",
              "    <tr>\n",
              "      <th>3</th>\n",
              "      <td>5001711</td>\n",
              "      <td>-3</td>\n",
              "      <td>1-29 dias</td>\n",
              "    </tr>\n",
              "    <tr>\n",
              "      <th>4</th>\n",
              "      <td>5001712</td>\n",
              "      <td>0</td>\n",
              "      <td>pagamento realizado</td>\n",
              "    </tr>\n",
              "  </tbody>\n",
              "</table>\n",
              "</div>"
            ],
            "text/plain": [
              "   ID_Cliente  Mes_referencia         Faixa_atraso\n",
              "0     5001711               0    nenhum empréstimo\n",
              "1     5001711              -1            1-29 dias\n",
              "2     5001711              -2            1-29 dias\n",
              "3     5001711              -3            1-29 dias\n",
              "4     5001712               0  pagamento realizado"
            ]
          },
          "metadata": {},
          "execution_count": 23
        }
      ]
    },
    {
      "cell_type": "markdown",
      "metadata": {
        "id": "Jh2Z7EiLnTJf"
      },
      "source": [
        "Utilizando o .info() vemos que não temos valores nulos nas colunas desse dataframe.\n"
      ]
    },
    {
      "cell_type": "code",
      "metadata": {
        "colab": {
          "base_uri": "https://localhost:8080/"
        },
        "id": "AGoCRwbStJ5w",
        "outputId": "86d4eb2a-d156-45ee-bc29-ece2cacef0b5"
      },
      "source": [
        "df_clientes_aprovados.info()"
      ],
      "execution_count": 24,
      "outputs": [
        {
          "output_type": "stream",
          "name": "stdout",
          "text": [
            "<class 'pandas.core.frame.DataFrame'>\n",
            "RangeIndex: 1048575 entries, 0 to 1048574\n",
            "Data columns (total 3 columns):\n",
            " #   Column          Non-Null Count    Dtype \n",
            "---  ------          --------------    ----- \n",
            " 0   ID_Cliente      1048575 non-null  int64 \n",
            " 1   Mes_referencia  1048575 non-null  int64 \n",
            " 2   Faixa_atraso    1048575 non-null  object\n",
            "dtypes: int64(2), object(1)\n",
            "memory usage: 24.0+ MB\n"
          ]
        }
      ]
    },
    {
      "cell_type": "markdown",
      "metadata": {
        "id": "1U0c_n9VqhET"
      },
      "source": [
        "Utilizando o .value_counts() nos IDs, conseguimos verificar se possui Ids repetidos e como podemos ver tem ID que aparece 61 vezes, então precisamos pensar em uma maneira de deixar cada ID com apenas uma linha."
      ]
    },
    {
      "cell_type": "code",
      "metadata": {
        "colab": {
          "base_uri": "https://localhost:8080/"
        },
        "id": "W5JPtdsms3ox",
        "outputId": "4290e5c2-2a63-48cf-c83e-dc9d236f2f99"
      },
      "source": [
        "df_clientes_aprovados['ID_Cliente'].value_counts()"
      ],
      "execution_count": 25,
      "outputs": [
        {
          "output_type": "execute_result",
          "data": {
            "text/plain": [
              "5145767    61\n",
              "5116236    61\n",
              "5037153    61\n",
              "5002523    61\n",
              "5028973    61\n",
              "           ..\n",
              "5149044     1\n",
              "5079047     1\n",
              "5137258     1\n",
              "5023604     1\n",
              "5023029     1\n",
              "Name: ID_Cliente, Length: 45985, dtype: int64"
            ]
          },
          "metadata": {},
          "execution_count": 25
        }
      ]
    },
    {
      "cell_type": "markdown",
      "metadata": {
        "id": "uJy9d-iirB_b"
      },
      "source": [
        "Vamos olhar um exemplo de um ID que tem **muitos registros** utilizando o `.query()`"
      ]
    },
    {
      "cell_type": "code",
      "metadata": {
        "colab": {
          "base_uri": "https://localhost:8080/",
          "height": 638
        },
        "id": "tZNPNrOutCLI",
        "outputId": "6af208b8-a72d-429c-a04e-4e0e3a9f9ad7"
      },
      "source": [
        "df_clientes_aprovados.query('ID_Cliente == 5001712')"
      ],
      "execution_count": 26,
      "outputs": [
        {
          "output_type": "execute_result",
          "data": {
            "text/html": [
              "<div>\n",
              "<style scoped>\n",
              "    .dataframe tbody tr th:only-of-type {\n",
              "        vertical-align: middle;\n",
              "    }\n",
              "\n",
              "    .dataframe tbody tr th {\n",
              "        vertical-align: top;\n",
              "    }\n",
              "\n",
              "    .dataframe thead th {\n",
              "        text-align: right;\n",
              "    }\n",
              "</style>\n",
              "<table border=\"1\" class=\"dataframe\">\n",
              "  <thead>\n",
              "    <tr style=\"text-align: right;\">\n",
              "      <th></th>\n",
              "      <th>ID_Cliente</th>\n",
              "      <th>Mes_referencia</th>\n",
              "      <th>Faixa_atraso</th>\n",
              "    </tr>\n",
              "  </thead>\n",
              "  <tbody>\n",
              "    <tr>\n",
              "      <th>4</th>\n",
              "      <td>5001712</td>\n",
              "      <td>0</td>\n",
              "      <td>pagamento realizado</td>\n",
              "    </tr>\n",
              "    <tr>\n",
              "      <th>5</th>\n",
              "      <td>5001712</td>\n",
              "      <td>-1</td>\n",
              "      <td>pagamento realizado</td>\n",
              "    </tr>\n",
              "    <tr>\n",
              "      <th>6</th>\n",
              "      <td>5001712</td>\n",
              "      <td>-2</td>\n",
              "      <td>pagamento realizado</td>\n",
              "    </tr>\n",
              "    <tr>\n",
              "      <th>7</th>\n",
              "      <td>5001712</td>\n",
              "      <td>-3</td>\n",
              "      <td>pagamento realizado</td>\n",
              "    </tr>\n",
              "    <tr>\n",
              "      <th>8</th>\n",
              "      <td>5001712</td>\n",
              "      <td>-4</td>\n",
              "      <td>pagamento realizado</td>\n",
              "    </tr>\n",
              "    <tr>\n",
              "      <th>9</th>\n",
              "      <td>5001712</td>\n",
              "      <td>-5</td>\n",
              "      <td>pagamento realizado</td>\n",
              "    </tr>\n",
              "    <tr>\n",
              "      <th>10</th>\n",
              "      <td>5001712</td>\n",
              "      <td>-6</td>\n",
              "      <td>pagamento realizado</td>\n",
              "    </tr>\n",
              "    <tr>\n",
              "      <th>11</th>\n",
              "      <td>5001712</td>\n",
              "      <td>-7</td>\n",
              "      <td>pagamento realizado</td>\n",
              "    </tr>\n",
              "    <tr>\n",
              "      <th>12</th>\n",
              "      <td>5001712</td>\n",
              "      <td>-8</td>\n",
              "      <td>pagamento realizado</td>\n",
              "    </tr>\n",
              "    <tr>\n",
              "      <th>13</th>\n",
              "      <td>5001712</td>\n",
              "      <td>-9</td>\n",
              "      <td>1-29 dias</td>\n",
              "    </tr>\n",
              "    <tr>\n",
              "      <th>14</th>\n",
              "      <td>5001712</td>\n",
              "      <td>-10</td>\n",
              "      <td>1-29 dias</td>\n",
              "    </tr>\n",
              "    <tr>\n",
              "      <th>15</th>\n",
              "      <td>5001712</td>\n",
              "      <td>-11</td>\n",
              "      <td>1-29 dias</td>\n",
              "    </tr>\n",
              "    <tr>\n",
              "      <th>16</th>\n",
              "      <td>5001712</td>\n",
              "      <td>-12</td>\n",
              "      <td>1-29 dias</td>\n",
              "    </tr>\n",
              "    <tr>\n",
              "      <th>17</th>\n",
              "      <td>5001712</td>\n",
              "      <td>-13</td>\n",
              "      <td>1-29 dias</td>\n",
              "    </tr>\n",
              "    <tr>\n",
              "      <th>18</th>\n",
              "      <td>5001712</td>\n",
              "      <td>-14</td>\n",
              "      <td>1-29 dias</td>\n",
              "    </tr>\n",
              "    <tr>\n",
              "      <th>19</th>\n",
              "      <td>5001712</td>\n",
              "      <td>-15</td>\n",
              "      <td>1-29 dias</td>\n",
              "    </tr>\n",
              "    <tr>\n",
              "      <th>20</th>\n",
              "      <td>5001712</td>\n",
              "      <td>-16</td>\n",
              "      <td>1-29 dias</td>\n",
              "    </tr>\n",
              "    <tr>\n",
              "      <th>21</th>\n",
              "      <td>5001712</td>\n",
              "      <td>-17</td>\n",
              "      <td>1-29 dias</td>\n",
              "    </tr>\n",
              "    <tr>\n",
              "      <th>22</th>\n",
              "      <td>5001712</td>\n",
              "      <td>-18</td>\n",
              "      <td>1-29 dias</td>\n",
              "    </tr>\n",
              "  </tbody>\n",
              "</table>\n",
              "</div>"
            ],
            "text/plain": [
              "    ID_Cliente  Mes_referencia         Faixa_atraso\n",
              "4      5001712               0  pagamento realizado\n",
              "5      5001712              -1  pagamento realizado\n",
              "6      5001712              -2  pagamento realizado\n",
              "7      5001712              -3  pagamento realizado\n",
              "8      5001712              -4  pagamento realizado\n",
              "9      5001712              -5  pagamento realizado\n",
              "10     5001712              -6  pagamento realizado\n",
              "11     5001712              -7  pagamento realizado\n",
              "12     5001712              -8  pagamento realizado\n",
              "13     5001712              -9            1-29 dias\n",
              "14     5001712             -10            1-29 dias\n",
              "15     5001712             -11            1-29 dias\n",
              "16     5001712             -12            1-29 dias\n",
              "17     5001712             -13            1-29 dias\n",
              "18     5001712             -14            1-29 dias\n",
              "19     5001712             -15            1-29 dias\n",
              "20     5001712             -16            1-29 dias\n",
              "21     5001712             -17            1-29 dias\n",
              "22     5001712             -18            1-29 dias"
            ]
          },
          "metadata": {},
          "execution_count": 26
        }
      ]
    },
    {
      "cell_type": "markdown",
      "metadata": {
        "id": "X85U-o40rgEY"
      },
      "source": [
        "Infelizmente não temos um padrão claro, podemos ver que tem clientes que tem 61 registros e outro 3 outros 5 e por aí vai."
      ]
    },
    {
      "cell_type": "code",
      "metadata": {
        "colab": {
          "base_uri": "https://localhost:8080/",
          "height": 173
        },
        "id": "5hDaTaIVXoc1",
        "outputId": "3e8ce884-b317-44ef-99fd-21fef9f76686"
      },
      "source": [
        "df_clientes_aprovados.query('ID_Cliente == 5001711')"
      ],
      "execution_count": 27,
      "outputs": [
        {
          "output_type": "execute_result",
          "data": {
            "text/html": [
              "<div>\n",
              "<style scoped>\n",
              "    .dataframe tbody tr th:only-of-type {\n",
              "        vertical-align: middle;\n",
              "    }\n",
              "\n",
              "    .dataframe tbody tr th {\n",
              "        vertical-align: top;\n",
              "    }\n",
              "\n",
              "    .dataframe thead th {\n",
              "        text-align: right;\n",
              "    }\n",
              "</style>\n",
              "<table border=\"1\" class=\"dataframe\">\n",
              "  <thead>\n",
              "    <tr style=\"text-align: right;\">\n",
              "      <th></th>\n",
              "      <th>ID_Cliente</th>\n",
              "      <th>Mes_referencia</th>\n",
              "      <th>Faixa_atraso</th>\n",
              "    </tr>\n",
              "  </thead>\n",
              "  <tbody>\n",
              "    <tr>\n",
              "      <th>0</th>\n",
              "      <td>5001711</td>\n",
              "      <td>0</td>\n",
              "      <td>nenhum empréstimo</td>\n",
              "    </tr>\n",
              "    <tr>\n",
              "      <th>1</th>\n",
              "      <td>5001711</td>\n",
              "      <td>-1</td>\n",
              "      <td>1-29 dias</td>\n",
              "    </tr>\n",
              "    <tr>\n",
              "      <th>2</th>\n",
              "      <td>5001711</td>\n",
              "      <td>-2</td>\n",
              "      <td>1-29 dias</td>\n",
              "    </tr>\n",
              "    <tr>\n",
              "      <th>3</th>\n",
              "      <td>5001711</td>\n",
              "      <td>-3</td>\n",
              "      <td>1-29 dias</td>\n",
              "    </tr>\n",
              "  </tbody>\n",
              "</table>\n",
              "</div>"
            ],
            "text/plain": [
              "   ID_Cliente  Mes_referencia       Faixa_atraso\n",
              "0     5001711               0  nenhum empréstimo\n",
              "1     5001711              -1          1-29 dias\n",
              "2     5001711              -2          1-29 dias\n",
              "3     5001711              -3          1-29 dias"
            ]
          },
          "metadata": {},
          "execution_count": 27
        }
      ]
    },
    {
      "cell_type": "markdown",
      "metadata": {
        "id": "a9JgcTdpri0F"
      },
      "source": [
        "Vamos olhar as possíveis opções para a coluna 'Faixa_atraso', fazendo uma **contagem** com o `value_counts`, depois pegar o **index** e transformaçar em uma lista com o **to_list()**"
      ]
    },
    {
      "cell_type": "code",
      "metadata": {
        "colab": {
          "base_uri": "https://localhost:8080/"
        },
        "id": "LmL2nSKeYyja",
        "outputId": "05853674-23a4-4ca3-b226-ab4144aa4142"
      },
      "source": [
        "df_clientes_aprovados.Faixa_atraso.value_counts().index.to_list() "
      ],
      "execution_count": 28,
      "outputs": [
        {
          "output_type": "execute_result",
          "data": {
            "text/plain": [
              "['pagamento realizado',\n",
              " '1-29 dias',\n",
              " 'nenhum empréstimo',\n",
              " '30-59 dias',\n",
              " '>150 dias',\n",
              " '60-89 dias',\n",
              " '90-119 dias',\n",
              " '120-149 dias']"
            ]
          },
          "metadata": {},
          "execution_count": 28
        }
      ]
    },
    {
      "cell_type": "markdown",
      "metadata": {
        "id": "zwNt-E25bIEe"
      },
      "source": [
        "Vamos criar uma **coluna** para pegar o **mês de abertura** dos nossos dados, para isso vamos utilizar uma função **lambda** e percorrer todas as linhas existentes e pegar o valor **minimo** utilizando o **.min()**, indicando então, a abertura do crédito do cliente.\n",
        "\n",
        "O `.apply` aplica uma função ao longo de um eixo do DataFrame. <br>\n",
        "\n",
        "[Link da documentação]('https://pandas.pydata.org/docs/reference/api/pandas.DataFrame.apply.html')\n",
        "\n",
        "Uma função `lambda` é uma pequena função anônima. Uma função `lambda` pode receber qualquer número de argumentos, mas só pode ter uma expressão.\n"
      ]
    },
    {
      "cell_type": "markdown",
      "metadata": {
        "id": "PMAYcrVtc5_9"
      },
      "source": [
        "<img src=\"https://i1.faceprep.in/Companies-1/python-lambda-functions-new.png\" alt=\"win\" width=\"800\"/>"
      ]
    },
    {
      "cell_type": "code",
      "metadata": {
        "colab": {
          "base_uri": "https://localhost:8080/"
        },
        "id": "p-sxXACRaGK9",
        "outputId": "45a14dbe-fffe-4435-d426-031907098bcd"
      },
      "source": [
        "df_registros_creditos_agrupados_ID = df_clientes_aprovados.groupby('ID_Cliente')\n",
        "serie_abertura =  df_registros_creditos_agrupados_ID.apply(lambda x: min(x['Mes_referencia']))\n",
        "serie_abertura.name = 'Abertura'\n",
        "serie_abertura"
      ],
      "execution_count": 29,
      "outputs": [
        {
          "output_type": "execute_result",
          "data": {
            "text/plain": [
              "ID_Cliente\n",
              "5001711    -3\n",
              "5001712   -18\n",
              "5001713   -21\n",
              "5001714   -14\n",
              "5001715   -59\n",
              "           ..\n",
              "5150482   -28\n",
              "5150483   -17\n",
              "5150484   -12\n",
              "5150485    -1\n",
              "5150487   -29\n",
              "Name: Abertura, Length: 45985, dtype: int64"
            ]
          },
          "metadata": {},
          "execution_count": 29
        }
      ]
    },
    {
      "cell_type": "code",
      "metadata": {
        "colab": {
          "base_uri": "https://localhost:8080/",
          "height": 204
        },
        "id": "gY3fQNQPbAlc",
        "outputId": "90859962-8b50-4736-e648-6b8b1f8ae322"
      },
      "source": [
        "df_clientes_aprovados = df_clientes_aprovados.merge(serie_abertura, on='ID_Cliente')\n",
        "df_clientes_aprovados.head()"
      ],
      "execution_count": 30,
      "outputs": [
        {
          "output_type": "execute_result",
          "data": {
            "text/html": [
              "<div>\n",
              "<style scoped>\n",
              "    .dataframe tbody tr th:only-of-type {\n",
              "        vertical-align: middle;\n",
              "    }\n",
              "\n",
              "    .dataframe tbody tr th {\n",
              "        vertical-align: top;\n",
              "    }\n",
              "\n",
              "    .dataframe thead th {\n",
              "        text-align: right;\n",
              "    }\n",
              "</style>\n",
              "<table border=\"1\" class=\"dataframe\">\n",
              "  <thead>\n",
              "    <tr style=\"text-align: right;\">\n",
              "      <th></th>\n",
              "      <th>ID_Cliente</th>\n",
              "      <th>Mes_referencia</th>\n",
              "      <th>Faixa_atraso</th>\n",
              "      <th>Abertura</th>\n",
              "    </tr>\n",
              "  </thead>\n",
              "  <tbody>\n",
              "    <tr>\n",
              "      <th>0</th>\n",
              "      <td>5001711</td>\n",
              "      <td>0</td>\n",
              "      <td>nenhum empréstimo</td>\n",
              "      <td>-3</td>\n",
              "    </tr>\n",
              "    <tr>\n",
              "      <th>1</th>\n",
              "      <td>5001711</td>\n",
              "      <td>-1</td>\n",
              "      <td>1-29 dias</td>\n",
              "      <td>-3</td>\n",
              "    </tr>\n",
              "    <tr>\n",
              "      <th>2</th>\n",
              "      <td>5001711</td>\n",
              "      <td>-2</td>\n",
              "      <td>1-29 dias</td>\n",
              "      <td>-3</td>\n",
              "    </tr>\n",
              "    <tr>\n",
              "      <th>3</th>\n",
              "      <td>5001711</td>\n",
              "      <td>-3</td>\n",
              "      <td>1-29 dias</td>\n",
              "      <td>-3</td>\n",
              "    </tr>\n",
              "    <tr>\n",
              "      <th>4</th>\n",
              "      <td>5001712</td>\n",
              "      <td>0</td>\n",
              "      <td>pagamento realizado</td>\n",
              "      <td>-18</td>\n",
              "    </tr>\n",
              "  </tbody>\n",
              "</table>\n",
              "</div>"
            ],
            "text/plain": [
              "   ID_Cliente  Mes_referencia         Faixa_atraso  Abertura\n",
              "0     5001711               0    nenhum empréstimo        -3\n",
              "1     5001711              -1            1-29 dias        -3\n",
              "2     5001711              -2            1-29 dias        -3\n",
              "3     5001711              -3            1-29 dias        -3\n",
              "4     5001712               0  pagamento realizado       -18"
            ]
          },
          "metadata": {},
          "execution_count": 30
        }
      ]
    },
    {
      "cell_type": "code",
      "metadata": {
        "colab": {
          "base_uri": "https://localhost:8080/"
        },
        "id": "Wr60O3XSeamG",
        "outputId": "db064119-1c8e-4851-a7cc-cd0e1b19d534"
      },
      "source": [
        "serie_final =  df_registros_creditos_agrupados_ID.apply(lambda x: max(x['Mes_referencia']))\n",
        "serie_final.name = 'Final'\n",
        "serie_final"
      ],
      "execution_count": 31,
      "outputs": [
        {
          "output_type": "execute_result",
          "data": {
            "text/plain": [
              "ID_Cliente\n",
              "5001711     0\n",
              "5001712     0\n",
              "5001713     0\n",
              "5001714     0\n",
              "5001715     0\n",
              "           ..\n",
              "5150482   -11\n",
              "5150483     0\n",
              "5150484     0\n",
              "5150485     0\n",
              "5150487     0\n",
              "Name: Final, Length: 45985, dtype: int64"
            ]
          },
          "metadata": {},
          "execution_count": 31
        }
      ]
    },
    {
      "cell_type": "code",
      "metadata": {
        "colab": {
          "base_uri": "https://localhost:8080/",
          "height": 204
        },
        "id": "IXjZYwzreokk",
        "outputId": "4f7bc11e-235c-4393-dd65-d6901f7c7cd2"
      },
      "source": [
        "df_clientes_aprovados = df_clientes_aprovados.merge(serie_final, on='ID_Cliente')\n",
        "df_clientes_aprovados.head()"
      ],
      "execution_count": 32,
      "outputs": [
        {
          "output_type": "execute_result",
          "data": {
            "text/html": [
              "<div>\n",
              "<style scoped>\n",
              "    .dataframe tbody tr th:only-of-type {\n",
              "        vertical-align: middle;\n",
              "    }\n",
              "\n",
              "    .dataframe tbody tr th {\n",
              "        vertical-align: top;\n",
              "    }\n",
              "\n",
              "    .dataframe thead th {\n",
              "        text-align: right;\n",
              "    }\n",
              "</style>\n",
              "<table border=\"1\" class=\"dataframe\">\n",
              "  <thead>\n",
              "    <tr style=\"text-align: right;\">\n",
              "      <th></th>\n",
              "      <th>ID_Cliente</th>\n",
              "      <th>Mes_referencia</th>\n",
              "      <th>Faixa_atraso</th>\n",
              "      <th>Abertura</th>\n",
              "      <th>Final</th>\n",
              "    </tr>\n",
              "  </thead>\n",
              "  <tbody>\n",
              "    <tr>\n",
              "      <th>0</th>\n",
              "      <td>5001711</td>\n",
              "      <td>0</td>\n",
              "      <td>nenhum empréstimo</td>\n",
              "      <td>-3</td>\n",
              "      <td>0</td>\n",
              "    </tr>\n",
              "    <tr>\n",
              "      <th>1</th>\n",
              "      <td>5001711</td>\n",
              "      <td>-1</td>\n",
              "      <td>1-29 dias</td>\n",
              "      <td>-3</td>\n",
              "      <td>0</td>\n",
              "    </tr>\n",
              "    <tr>\n",
              "      <th>2</th>\n",
              "      <td>5001711</td>\n",
              "      <td>-2</td>\n",
              "      <td>1-29 dias</td>\n",
              "      <td>-3</td>\n",
              "      <td>0</td>\n",
              "    </tr>\n",
              "    <tr>\n",
              "      <th>3</th>\n",
              "      <td>5001711</td>\n",
              "      <td>-3</td>\n",
              "      <td>1-29 dias</td>\n",
              "      <td>-3</td>\n",
              "      <td>0</td>\n",
              "    </tr>\n",
              "    <tr>\n",
              "      <th>4</th>\n",
              "      <td>5001712</td>\n",
              "      <td>0</td>\n",
              "      <td>pagamento realizado</td>\n",
              "      <td>-18</td>\n",
              "      <td>0</td>\n",
              "    </tr>\n",
              "  </tbody>\n",
              "</table>\n",
              "</div>"
            ],
            "text/plain": [
              "   ID_Cliente  Mes_referencia         Faixa_atraso  Abertura  Final\n",
              "0     5001711               0    nenhum empréstimo        -3      0\n",
              "1     5001711              -1            1-29 dias        -3      0\n",
              "2     5001711              -2            1-29 dias        -3      0\n",
              "3     5001711              -3            1-29 dias        -3      0\n",
              "4     5001712               0  pagamento realizado       -18      0"
            ]
          },
          "metadata": {},
          "execution_count": 32
        }
      ]
    },
    {
      "cell_type": "code",
      "metadata": {
        "colab": {
          "base_uri": "https://localhost:8080/",
          "height": 204
        },
        "id": "Mfbh3vcfe0qk",
        "outputId": "d34fda06-784c-4031-9875-242762f774aa"
      },
      "source": [
        "df_clientes_aprovados['Janela'] = df_clientes_aprovados['Final'] - df_clientes_aprovados['Abertura']\n",
        "df_clientes_aprovados.head()"
      ],
      "execution_count": 33,
      "outputs": [
        {
          "output_type": "execute_result",
          "data": {
            "text/html": [
              "<div>\n",
              "<style scoped>\n",
              "    .dataframe tbody tr th:only-of-type {\n",
              "        vertical-align: middle;\n",
              "    }\n",
              "\n",
              "    .dataframe tbody tr th {\n",
              "        vertical-align: top;\n",
              "    }\n",
              "\n",
              "    .dataframe thead th {\n",
              "        text-align: right;\n",
              "    }\n",
              "</style>\n",
              "<table border=\"1\" class=\"dataframe\">\n",
              "  <thead>\n",
              "    <tr style=\"text-align: right;\">\n",
              "      <th></th>\n",
              "      <th>ID_Cliente</th>\n",
              "      <th>Mes_referencia</th>\n",
              "      <th>Faixa_atraso</th>\n",
              "      <th>Abertura</th>\n",
              "      <th>Final</th>\n",
              "      <th>Janela</th>\n",
              "    </tr>\n",
              "  </thead>\n",
              "  <tbody>\n",
              "    <tr>\n",
              "      <th>0</th>\n",
              "      <td>5001711</td>\n",
              "      <td>0</td>\n",
              "      <td>nenhum empréstimo</td>\n",
              "      <td>-3</td>\n",
              "      <td>0</td>\n",
              "      <td>3</td>\n",
              "    </tr>\n",
              "    <tr>\n",
              "      <th>1</th>\n",
              "      <td>5001711</td>\n",
              "      <td>-1</td>\n",
              "      <td>1-29 dias</td>\n",
              "      <td>-3</td>\n",
              "      <td>0</td>\n",
              "      <td>3</td>\n",
              "    </tr>\n",
              "    <tr>\n",
              "      <th>2</th>\n",
              "      <td>5001711</td>\n",
              "      <td>-2</td>\n",
              "      <td>1-29 dias</td>\n",
              "      <td>-3</td>\n",
              "      <td>0</td>\n",
              "      <td>3</td>\n",
              "    </tr>\n",
              "    <tr>\n",
              "      <th>3</th>\n",
              "      <td>5001711</td>\n",
              "      <td>-3</td>\n",
              "      <td>1-29 dias</td>\n",
              "      <td>-3</td>\n",
              "      <td>0</td>\n",
              "      <td>3</td>\n",
              "    </tr>\n",
              "    <tr>\n",
              "      <th>4</th>\n",
              "      <td>5001712</td>\n",
              "      <td>0</td>\n",
              "      <td>pagamento realizado</td>\n",
              "      <td>-18</td>\n",
              "      <td>0</td>\n",
              "      <td>18</td>\n",
              "    </tr>\n",
              "  </tbody>\n",
              "</table>\n",
              "</div>"
            ],
            "text/plain": [
              "   ID_Cliente  Mes_referencia         Faixa_atraso  Abertura  Final  Janela\n",
              "0     5001711               0    nenhum empréstimo        -3      0       3\n",
              "1     5001711              -1            1-29 dias        -3      0       3\n",
              "2     5001711              -2            1-29 dias        -3      0       3\n",
              "3     5001711              -3            1-29 dias        -3      0       3\n",
              "4     5001712               0  pagamento realizado       -18      0      18"
            ]
          },
          "metadata": {},
          "execution_count": 33
        }
      ]
    },
    {
      "cell_type": "code",
      "metadata": {
        "colab": {
          "base_uri": "https://localhost:8080/",
          "height": 204
        },
        "id": "vWGWogGFe5mv",
        "outputId": "44e527e1-a4e8-4dcb-bcbf-d15e359212ef"
      },
      "source": [
        "df_clientes_aprovados['MOB'] = df_clientes_aprovados['Mes_referencia'] - df_clientes_aprovados['Abertura']\n",
        "df_clientes_aprovados.head()"
      ],
      "execution_count": 34,
      "outputs": [
        {
          "output_type": "execute_result",
          "data": {
            "text/html": [
              "<div>\n",
              "<style scoped>\n",
              "    .dataframe tbody tr th:only-of-type {\n",
              "        vertical-align: middle;\n",
              "    }\n",
              "\n",
              "    .dataframe tbody tr th {\n",
              "        vertical-align: top;\n",
              "    }\n",
              "\n",
              "    .dataframe thead th {\n",
              "        text-align: right;\n",
              "    }\n",
              "</style>\n",
              "<table border=\"1\" class=\"dataframe\">\n",
              "  <thead>\n",
              "    <tr style=\"text-align: right;\">\n",
              "      <th></th>\n",
              "      <th>ID_Cliente</th>\n",
              "      <th>Mes_referencia</th>\n",
              "      <th>Faixa_atraso</th>\n",
              "      <th>Abertura</th>\n",
              "      <th>Final</th>\n",
              "      <th>Janela</th>\n",
              "      <th>MOB</th>\n",
              "    </tr>\n",
              "  </thead>\n",
              "  <tbody>\n",
              "    <tr>\n",
              "      <th>0</th>\n",
              "      <td>5001711</td>\n",
              "      <td>0</td>\n",
              "      <td>nenhum empréstimo</td>\n",
              "      <td>-3</td>\n",
              "      <td>0</td>\n",
              "      <td>3</td>\n",
              "      <td>3</td>\n",
              "    </tr>\n",
              "    <tr>\n",
              "      <th>1</th>\n",
              "      <td>5001711</td>\n",
              "      <td>-1</td>\n",
              "      <td>1-29 dias</td>\n",
              "      <td>-3</td>\n",
              "      <td>0</td>\n",
              "      <td>3</td>\n",
              "      <td>2</td>\n",
              "    </tr>\n",
              "    <tr>\n",
              "      <th>2</th>\n",
              "      <td>5001711</td>\n",
              "      <td>-2</td>\n",
              "      <td>1-29 dias</td>\n",
              "      <td>-3</td>\n",
              "      <td>0</td>\n",
              "      <td>3</td>\n",
              "      <td>1</td>\n",
              "    </tr>\n",
              "    <tr>\n",
              "      <th>3</th>\n",
              "      <td>5001711</td>\n",
              "      <td>-3</td>\n",
              "      <td>1-29 dias</td>\n",
              "      <td>-3</td>\n",
              "      <td>0</td>\n",
              "      <td>3</td>\n",
              "      <td>0</td>\n",
              "    </tr>\n",
              "    <tr>\n",
              "      <th>4</th>\n",
              "      <td>5001712</td>\n",
              "      <td>0</td>\n",
              "      <td>pagamento realizado</td>\n",
              "      <td>-18</td>\n",
              "      <td>0</td>\n",
              "      <td>18</td>\n",
              "      <td>18</td>\n",
              "    </tr>\n",
              "  </tbody>\n",
              "</table>\n",
              "</div>"
            ],
            "text/plain": [
              "   ID_Cliente  Mes_referencia         Faixa_atraso  ...  Final  Janela  MOB\n",
              "0     5001711               0    nenhum empréstimo  ...      0       3    3\n",
              "1     5001711              -1            1-29 dias  ...      0       3    2\n",
              "2     5001711              -2            1-29 dias  ...      0       3    1\n",
              "3     5001711              -3            1-29 dias  ...      0       3    0\n",
              "4     5001712               0  pagamento realizado  ...      0      18   18\n",
              "\n",
              "[5 rows x 7 columns]"
            ]
          },
          "metadata": {},
          "execution_count": 34
        }
      ]
    },
    {
      "cell_type": "markdown",
      "metadata": {
        "id": "_J50W0_HjUtt"
      },
      "source": [
        "Vamos transformar a coluna Faixa_atraso em uma coluna quantitativa, pois como no final iremos criar um modelo preditivo, então precisamos fazer essa transformação, para isso precisamos criar um dicionário e aplicar o  `.map()`"
      ]
    },
    {
      "cell_type": "markdown",
      "metadata": {
        "id": "LuT2xz8qkdi7"
      },
      "source": [
        "<img src=\"https://blog.fastformat.co/wp-content/uploads/2018/05/variaveisquantitativas_qualitativas.png\" alt=\"win\" width=\"800\"/>"
      ]
    },
    {
      "cell_type": "markdown",
      "metadata": {
        "id": "vep7eHu2kDAO"
      },
      "source": [
        "**Variáveis Quantitativas**<br> São representadas por meio de números resultantes de uma contagem ou mensuração. <br> Elas podem ser de dois tipos:\n",
        "<br>\n",
        " - **Variáveis discretas**: os valores representam um conjunto finito ou enumerável de números, e que resultam de uma contagem, por exemplo: Número de filhos (0,1,2,…), número de bactérias por amostra, número de copos de cerveja tomados por dia.<br>\n",
        " - **Variáveis contínuas**: os valores pertencem a um intervalo de números reais e representam uma mensuração como por exemplo altura ou peso de uma pessoa. Nesses casos números fracionais fazem sentido. Exemplo: tempo (relógio) e pressão arterial.<br>\n",
        "\n",
        "**Variáveis Qualitativas**<br> Representam uma qualidade (ou atributo) de um indivíduo pesquisado, são definidas por várias categorias. São características que não possuem valores quantitativos. <br>Essas variáveis podem ser de dois tipos:<br>\n",
        "- **Variável nominal**: quando não existe nenhuma ordenação nas possíveis representações. Exemplos: sexo, cor dos olhos, cor do cabelo, fumante/não fumante.\n",
        "- **Variável ordinal**: quando apresentam uma ordem nos seus resultados. Exemplos: escolaridade (1, 2, 3 graus), mês de observação (janeiro, fevereiro, …, dezembro.)"
      ]
    },
    {
      "cell_type": "code",
      "metadata": {
        "id": "YYR3QKZXg378"
      },
      "source": [
        "dict_faixa_atraso_ind ={'nenhum empréstimo': 0, 'pagamento realizado': 1,\n",
        "                        '1-29 dias': 2, '30-59 dias': 3, '60-89 dias': 4,\n",
        "                        '90-119 dias': 5, '120-149 dias': 6, '>150 dias': 7}"
      ],
      "execution_count": 35,
      "outputs": []
    },
    {
      "cell_type": "markdown",
      "metadata": {
        "id": "cAnZOOnihKpW"
      },
      "source": [
        "`.map()` Mapeia os valores das séries de acordo com a correspondência de entrada.\n",
        "\n",
        "Usado para substituir cada valor em uma Série por outro valor, que pode ser derivado de uma função, um dicionário ou uma Série.<br>[Link da Documentação]('https://pandas.pydata.org/docs/reference/api/pandas.Series.map.html')\n"
      ]
    },
    {
      "cell_type": "code",
      "metadata": {
        "colab": {
          "base_uri": "https://localhost:8080/",
          "height": 204
        },
        "id": "D9XXdiIsg8R3",
        "outputId": "42a3daf7-0734-4939-9c8f-eb858cae1033"
      },
      "source": [
        "df_clientes_aprovados['Ind_Faixa_atraso'] = df_clientes_aprovados['Faixa_atraso'].map(dict_faixa_atraso_ind)\n",
        "df_clientes_aprovados.head()"
      ],
      "execution_count": 36,
      "outputs": [
        {
          "output_type": "execute_result",
          "data": {
            "text/html": [
              "<div>\n",
              "<style scoped>\n",
              "    .dataframe tbody tr th:only-of-type {\n",
              "        vertical-align: middle;\n",
              "    }\n",
              "\n",
              "    .dataframe tbody tr th {\n",
              "        vertical-align: top;\n",
              "    }\n",
              "\n",
              "    .dataframe thead th {\n",
              "        text-align: right;\n",
              "    }\n",
              "</style>\n",
              "<table border=\"1\" class=\"dataframe\">\n",
              "  <thead>\n",
              "    <tr style=\"text-align: right;\">\n",
              "      <th></th>\n",
              "      <th>ID_Cliente</th>\n",
              "      <th>Mes_referencia</th>\n",
              "      <th>Faixa_atraso</th>\n",
              "      <th>Abertura</th>\n",
              "      <th>Final</th>\n",
              "      <th>Janela</th>\n",
              "      <th>MOB</th>\n",
              "      <th>Ind_Faixa_atraso</th>\n",
              "    </tr>\n",
              "  </thead>\n",
              "  <tbody>\n",
              "    <tr>\n",
              "      <th>0</th>\n",
              "      <td>5001711</td>\n",
              "      <td>0</td>\n",
              "      <td>nenhum empréstimo</td>\n",
              "      <td>-3</td>\n",
              "      <td>0</td>\n",
              "      <td>3</td>\n",
              "      <td>3</td>\n",
              "      <td>0</td>\n",
              "    </tr>\n",
              "    <tr>\n",
              "      <th>1</th>\n",
              "      <td>5001711</td>\n",
              "      <td>-1</td>\n",
              "      <td>1-29 dias</td>\n",
              "      <td>-3</td>\n",
              "      <td>0</td>\n",
              "      <td>3</td>\n",
              "      <td>2</td>\n",
              "      <td>2</td>\n",
              "    </tr>\n",
              "    <tr>\n",
              "      <th>2</th>\n",
              "      <td>5001711</td>\n",
              "      <td>-2</td>\n",
              "      <td>1-29 dias</td>\n",
              "      <td>-3</td>\n",
              "      <td>0</td>\n",
              "      <td>3</td>\n",
              "      <td>1</td>\n",
              "      <td>2</td>\n",
              "    </tr>\n",
              "    <tr>\n",
              "      <th>3</th>\n",
              "      <td>5001711</td>\n",
              "      <td>-3</td>\n",
              "      <td>1-29 dias</td>\n",
              "      <td>-3</td>\n",
              "      <td>0</td>\n",
              "      <td>3</td>\n",
              "      <td>0</td>\n",
              "      <td>2</td>\n",
              "    </tr>\n",
              "    <tr>\n",
              "      <th>4</th>\n",
              "      <td>5001712</td>\n",
              "      <td>0</td>\n",
              "      <td>pagamento realizado</td>\n",
              "      <td>-18</td>\n",
              "      <td>0</td>\n",
              "      <td>18</td>\n",
              "      <td>18</td>\n",
              "      <td>1</td>\n",
              "    </tr>\n",
              "  </tbody>\n",
              "</table>\n",
              "</div>"
            ],
            "text/plain": [
              "   ID_Cliente  Mes_referencia  ... MOB  Ind_Faixa_atraso\n",
              "0     5001711               0  ...   3                 0\n",
              "1     5001711              -1  ...   2                 2\n",
              "2     5001711              -2  ...   1                 2\n",
              "3     5001711              -3  ...   0                 2\n",
              "4     5001712               0  ...  18                 1\n",
              "\n",
              "[5 rows x 8 columns]"
            ]
          },
          "metadata": {},
          "execution_count": 36
        }
      ]
    },
    {
      "cell_type": "markdown",
      "metadata": {
        "id": "JxGKMzfx8JSx"
      },
      "source": [
        "Para criar um modelo preditivo, precisamos de uma coluna que possui os dados que eu queremos prever, essa variável é nomeada como variável target e as demais variáveis são chamadas de variáveis preditoras, pois vão auxiliar na predição do resultado."
      ]
    },
    {
      "cell_type": "markdown",
      "metadata": {
        "id": "9MvO_IL1_-RO"
      },
      "source": [
        "Portanto, precisamos identificar quais são os clientes que são pagadores ruins, pois não queremos clientes que não paguem os emprestimos que iremos conceder, mas por outro lado queremos clientes que atrasem suas dividas, tendo em vista que ganhamos dinheiro com o juros das dívidas atrasadas também. \n",
        "\n",
        "Portanto precisamos decidir até qual janela será um bom pagador e qual será um mau pagador para nós do TowerBank. "
      ]
    },
    {
      "cell_type": "markdown",
      "metadata": {
        "id": "H-ZDNgLPA_e9"
      },
      "source": [
        "Por enquanto, vamos escolher até 89 dias de atraso é um bom pagador dos seus créditos em aberto, já os acima serão considerados um maus pagadores. "
      ]
    },
    {
      "cell_type": "markdown",
      "metadata": {
        "id": "Pby7oyQtBO23"
      },
      "source": [
        "Para realizar essa classificação, precisamos utilizar o método `.apply()` novamente e passar uma logica em cada linha do dataframe e verificar se o indice de atraso é **maior que 3**, pois segundo o dicionário que criados a chave 3 é o valor **'60-89 dias'** e criar a nova coluna chamada **'Mau'**."
      ]
    },
    {
      "cell_type": "code",
      "metadata": {
        "colab": {
          "base_uri": "https://localhost:8080/",
          "height": 204
        },
        "id": "3lUXczWJA_R1",
        "outputId": "b0cc9c3a-0b3a-466e-fd27-ee4424bcea9e"
      },
      "source": [
        "df_clientes_aprovados['Mau'] = df_clientes_aprovados.apply(lambda x: 1 if x['Ind_Faixa_atraso'] > 3 else 0, axis=1)\n",
        "df_clientes_aprovados.head()"
      ],
      "execution_count": 37,
      "outputs": [
        {
          "output_type": "execute_result",
          "data": {
            "text/html": [
              "<div>\n",
              "<style scoped>\n",
              "    .dataframe tbody tr th:only-of-type {\n",
              "        vertical-align: middle;\n",
              "    }\n",
              "\n",
              "    .dataframe tbody tr th {\n",
              "        vertical-align: top;\n",
              "    }\n",
              "\n",
              "    .dataframe thead th {\n",
              "        text-align: right;\n",
              "    }\n",
              "</style>\n",
              "<table border=\"1\" class=\"dataframe\">\n",
              "  <thead>\n",
              "    <tr style=\"text-align: right;\">\n",
              "      <th></th>\n",
              "      <th>ID_Cliente</th>\n",
              "      <th>Mes_referencia</th>\n",
              "      <th>Faixa_atraso</th>\n",
              "      <th>Abertura</th>\n",
              "      <th>Final</th>\n",
              "      <th>Janela</th>\n",
              "      <th>MOB</th>\n",
              "      <th>Ind_Faixa_atraso</th>\n",
              "      <th>Mau</th>\n",
              "    </tr>\n",
              "  </thead>\n",
              "  <tbody>\n",
              "    <tr>\n",
              "      <th>0</th>\n",
              "      <td>5001711</td>\n",
              "      <td>0</td>\n",
              "      <td>nenhum empréstimo</td>\n",
              "      <td>-3</td>\n",
              "      <td>0</td>\n",
              "      <td>3</td>\n",
              "      <td>3</td>\n",
              "      <td>0</td>\n",
              "      <td>0</td>\n",
              "    </tr>\n",
              "    <tr>\n",
              "      <th>1</th>\n",
              "      <td>5001711</td>\n",
              "      <td>-1</td>\n",
              "      <td>1-29 dias</td>\n",
              "      <td>-3</td>\n",
              "      <td>0</td>\n",
              "      <td>3</td>\n",
              "      <td>2</td>\n",
              "      <td>2</td>\n",
              "      <td>0</td>\n",
              "    </tr>\n",
              "    <tr>\n",
              "      <th>2</th>\n",
              "      <td>5001711</td>\n",
              "      <td>-2</td>\n",
              "      <td>1-29 dias</td>\n",
              "      <td>-3</td>\n",
              "      <td>0</td>\n",
              "      <td>3</td>\n",
              "      <td>1</td>\n",
              "      <td>2</td>\n",
              "      <td>0</td>\n",
              "    </tr>\n",
              "    <tr>\n",
              "      <th>3</th>\n",
              "      <td>5001711</td>\n",
              "      <td>-3</td>\n",
              "      <td>1-29 dias</td>\n",
              "      <td>-3</td>\n",
              "      <td>0</td>\n",
              "      <td>3</td>\n",
              "      <td>0</td>\n",
              "      <td>2</td>\n",
              "      <td>0</td>\n",
              "    </tr>\n",
              "    <tr>\n",
              "      <th>4</th>\n",
              "      <td>5001712</td>\n",
              "      <td>0</td>\n",
              "      <td>pagamento realizado</td>\n",
              "      <td>-18</td>\n",
              "      <td>0</td>\n",
              "      <td>18</td>\n",
              "      <td>18</td>\n",
              "      <td>1</td>\n",
              "      <td>0</td>\n",
              "    </tr>\n",
              "  </tbody>\n",
              "</table>\n",
              "</div>"
            ],
            "text/plain": [
              "   ID_Cliente  Mes_referencia         Faixa_atraso  ...  MOB  Ind_Faixa_atraso  Mau\n",
              "0     5001711               0    nenhum empréstimo  ...    3                 0    0\n",
              "1     5001711              -1            1-29 dias  ...    2                 2    0\n",
              "2     5001711              -2            1-29 dias  ...    1                 2    0\n",
              "3     5001711              -3            1-29 dias  ...    0                 2    0\n",
              "4     5001712               0  pagamento realizado  ...   18                 1    0\n",
              "\n",
              "[5 rows x 9 columns]"
            ]
          },
          "metadata": {},
          "execution_count": 37
        }
      ]
    },
    {
      "cell_type": "markdown",
      "metadata": {
        "id": "7CbNZbieJc9n"
      },
      "source": [
        "Bom, como podemos ver acima, temos várias linhas por ID, então precisamos deixar apenas uma linha para cada ID e como faremos isso?\n",
        "\n",
        "Primeiramente vamos apenas pegar as colunas **ID_Cliente, Abertura, Final e Janela** e agrupar pelo ID utilizando o `.groupBy()`   [Link da Documentação](https://pandas.pydata.org/pandas-docs/dev/reference/api/pandas.DataFrame.groupby.html)\n",
        "\n",
        "Depois vamos vamos utilizar o `.apply` para aplicar uma lógica em cada linha do dataframe utilizando uma função lambda e pegando o primeiro regristro do ID usando o `.iloc[0]` ([Link da Documentação](https://pandas.pydata.org/docs/reference/api/pandas.DataFrame.iloc.html)), pois essas colunas tem o mesmo valor sempre, então podemos pegar qualquer uma.\n",
        "\n",
        "Por fim, vamos utilizar o `.reset_index()` ([Link da Documentação](https://pandas.pydata.org/pandas-docs/dev/reference/api/pandas.DataFrame.reset_index.html)) para tirar o ID do index e voltar para coluna e depois salvar  em uma variável."
      ]
    },
    {
      "cell_type": "code",
      "metadata": {
        "colab": {
          "base_uri": "https://localhost:8080/",
          "height": 419
        },
        "id": "h7cRdOp78Dwb",
        "outputId": "36dc1e1b-4295-4b3e-99f8-1a519cefac01"
      },
      "source": [
        "df_registros_creditos_ID = df_clientes_aprovados[['ID_Cliente','Abertura', 'Final', 'Janela']].groupby('ID_Cliente').apply(lambda x: x.iloc[0]).reset_index(drop=True)\n",
        "df_registros_creditos_ID"
      ],
      "execution_count": 38,
      "outputs": [
        {
          "output_type": "execute_result",
          "data": {
            "text/html": [
              "<div>\n",
              "<style scoped>\n",
              "    .dataframe tbody tr th:only-of-type {\n",
              "        vertical-align: middle;\n",
              "    }\n",
              "\n",
              "    .dataframe tbody tr th {\n",
              "        vertical-align: top;\n",
              "    }\n",
              "\n",
              "    .dataframe thead th {\n",
              "        text-align: right;\n",
              "    }\n",
              "</style>\n",
              "<table border=\"1\" class=\"dataframe\">\n",
              "  <thead>\n",
              "    <tr style=\"text-align: right;\">\n",
              "      <th></th>\n",
              "      <th>ID_Cliente</th>\n",
              "      <th>Abertura</th>\n",
              "      <th>Final</th>\n",
              "      <th>Janela</th>\n",
              "    </tr>\n",
              "  </thead>\n",
              "  <tbody>\n",
              "    <tr>\n",
              "      <th>0</th>\n",
              "      <td>5001711</td>\n",
              "      <td>-3</td>\n",
              "      <td>0</td>\n",
              "      <td>3</td>\n",
              "    </tr>\n",
              "    <tr>\n",
              "      <th>1</th>\n",
              "      <td>5001712</td>\n",
              "      <td>-18</td>\n",
              "      <td>0</td>\n",
              "      <td>18</td>\n",
              "    </tr>\n",
              "    <tr>\n",
              "      <th>2</th>\n",
              "      <td>5001713</td>\n",
              "      <td>-21</td>\n",
              "      <td>0</td>\n",
              "      <td>21</td>\n",
              "    </tr>\n",
              "    <tr>\n",
              "      <th>3</th>\n",
              "      <td>5001714</td>\n",
              "      <td>-14</td>\n",
              "      <td>0</td>\n",
              "      <td>14</td>\n",
              "    </tr>\n",
              "    <tr>\n",
              "      <th>4</th>\n",
              "      <td>5001715</td>\n",
              "      <td>-59</td>\n",
              "      <td>0</td>\n",
              "      <td>59</td>\n",
              "    </tr>\n",
              "    <tr>\n",
              "      <th>...</th>\n",
              "      <td>...</td>\n",
              "      <td>...</td>\n",
              "      <td>...</td>\n",
              "      <td>...</td>\n",
              "    </tr>\n",
              "    <tr>\n",
              "      <th>45980</th>\n",
              "      <td>5150482</td>\n",
              "      <td>-28</td>\n",
              "      <td>-11</td>\n",
              "      <td>17</td>\n",
              "    </tr>\n",
              "    <tr>\n",
              "      <th>45981</th>\n",
              "      <td>5150483</td>\n",
              "      <td>-17</td>\n",
              "      <td>0</td>\n",
              "      <td>17</td>\n",
              "    </tr>\n",
              "    <tr>\n",
              "      <th>45982</th>\n",
              "      <td>5150484</td>\n",
              "      <td>-12</td>\n",
              "      <td>0</td>\n",
              "      <td>12</td>\n",
              "    </tr>\n",
              "    <tr>\n",
              "      <th>45983</th>\n",
              "      <td>5150485</td>\n",
              "      <td>-1</td>\n",
              "      <td>0</td>\n",
              "      <td>1</td>\n",
              "    </tr>\n",
              "    <tr>\n",
              "      <th>45984</th>\n",
              "      <td>5150487</td>\n",
              "      <td>-29</td>\n",
              "      <td>0</td>\n",
              "      <td>29</td>\n",
              "    </tr>\n",
              "  </tbody>\n",
              "</table>\n",
              "<p>45985 rows × 4 columns</p>\n",
              "</div>"
            ],
            "text/plain": [
              "       ID_Cliente  Abertura  Final  Janela\n",
              "0         5001711        -3      0       3\n",
              "1         5001712       -18      0      18\n",
              "2         5001713       -21      0      21\n",
              "3         5001714       -14      0      14\n",
              "4         5001715       -59      0      59\n",
              "...           ...       ...    ...     ...\n",
              "45980     5150482       -28    -11      17\n",
              "45981     5150483       -17      0      17\n",
              "45982     5150484       -12      0      12\n",
              "45983     5150485        -1      0       1\n",
              "45984     5150487       -29      0      29\n",
              "\n",
              "[45985 rows x 4 columns]"
            ]
          },
          "metadata": {},
          "execution_count": 38
        }
      ]
    },
    {
      "cell_type": "markdown",
      "metadata": {
        "id": "7nHXayfDyum1"
      },
      "source": [
        "Vamos pegar apenas os clientes que estão mais de uma ano na base de dados, pois temos mais estabilidade na base de dados."
      ]
    },
    {
      "cell_type": "code",
      "metadata": {
        "colab": {
          "base_uri": "https://localhost:8080/",
          "height": 204
        },
        "id": "PINA4fhH7ZHE",
        "outputId": "ef787dc2-9534-46a3-bf06-1d837b0a8189"
      },
      "source": [
        "df_clientes_aprovados_tratamento1 = df_clientes_aprovados.query('Janela >= 12').copy()\n",
        "df_clientes_aprovados_tratamento1.head()"
      ],
      "execution_count": 39,
      "outputs": [
        {
          "output_type": "execute_result",
          "data": {
            "text/html": [
              "<div>\n",
              "<style scoped>\n",
              "    .dataframe tbody tr th:only-of-type {\n",
              "        vertical-align: middle;\n",
              "    }\n",
              "\n",
              "    .dataframe tbody tr th {\n",
              "        vertical-align: top;\n",
              "    }\n",
              "\n",
              "    .dataframe thead th {\n",
              "        text-align: right;\n",
              "    }\n",
              "</style>\n",
              "<table border=\"1\" class=\"dataframe\">\n",
              "  <thead>\n",
              "    <tr style=\"text-align: right;\">\n",
              "      <th></th>\n",
              "      <th>ID_Cliente</th>\n",
              "      <th>Mes_referencia</th>\n",
              "      <th>Faixa_atraso</th>\n",
              "      <th>Abertura</th>\n",
              "      <th>Final</th>\n",
              "      <th>Janela</th>\n",
              "      <th>MOB</th>\n",
              "      <th>Ind_Faixa_atraso</th>\n",
              "      <th>Mau</th>\n",
              "    </tr>\n",
              "  </thead>\n",
              "  <tbody>\n",
              "    <tr>\n",
              "      <th>4</th>\n",
              "      <td>5001712</td>\n",
              "      <td>0</td>\n",
              "      <td>pagamento realizado</td>\n",
              "      <td>-18</td>\n",
              "      <td>0</td>\n",
              "      <td>18</td>\n",
              "      <td>18</td>\n",
              "      <td>1</td>\n",
              "      <td>0</td>\n",
              "    </tr>\n",
              "    <tr>\n",
              "      <th>5</th>\n",
              "      <td>5001712</td>\n",
              "      <td>-1</td>\n",
              "      <td>pagamento realizado</td>\n",
              "      <td>-18</td>\n",
              "      <td>0</td>\n",
              "      <td>18</td>\n",
              "      <td>17</td>\n",
              "      <td>1</td>\n",
              "      <td>0</td>\n",
              "    </tr>\n",
              "    <tr>\n",
              "      <th>6</th>\n",
              "      <td>5001712</td>\n",
              "      <td>-2</td>\n",
              "      <td>pagamento realizado</td>\n",
              "      <td>-18</td>\n",
              "      <td>0</td>\n",
              "      <td>18</td>\n",
              "      <td>16</td>\n",
              "      <td>1</td>\n",
              "      <td>0</td>\n",
              "    </tr>\n",
              "    <tr>\n",
              "      <th>7</th>\n",
              "      <td>5001712</td>\n",
              "      <td>-3</td>\n",
              "      <td>pagamento realizado</td>\n",
              "      <td>-18</td>\n",
              "      <td>0</td>\n",
              "      <td>18</td>\n",
              "      <td>15</td>\n",
              "      <td>1</td>\n",
              "      <td>0</td>\n",
              "    </tr>\n",
              "    <tr>\n",
              "      <th>8</th>\n",
              "      <td>5001712</td>\n",
              "      <td>-4</td>\n",
              "      <td>pagamento realizado</td>\n",
              "      <td>-18</td>\n",
              "      <td>0</td>\n",
              "      <td>18</td>\n",
              "      <td>14</td>\n",
              "      <td>1</td>\n",
              "      <td>0</td>\n",
              "    </tr>\n",
              "  </tbody>\n",
              "</table>\n",
              "</div>"
            ],
            "text/plain": [
              "   ID_Cliente  Mes_referencia         Faixa_atraso  ...  MOB  Ind_Faixa_atraso  Mau\n",
              "4     5001712               0  pagamento realizado  ...   18                 1    0\n",
              "5     5001712              -1  pagamento realizado  ...   17                 1    0\n",
              "6     5001712              -2  pagamento realizado  ...   16                 1    0\n",
              "7     5001712              -3  pagamento realizado  ...   15                 1    0\n",
              "8     5001712              -4  pagamento realizado  ...   14                 1    0\n",
              "\n",
              "[5 rows x 9 columns]"
            ]
          },
          "metadata": {},
          "execution_count": 39
        }
      ]
    },
    {
      "cell_type": "markdown",
      "metadata": {
        "id": "wkEd66iKwCEU"
      },
      "source": [
        "Vamos agrupar os clientes por ID e vamos utilizar o método apply para aplicar uma logica para cada ID, essa logica é definida na função verifica.\n",
        "\n",
        "Essa função recebe os registros de cada cliente, salva todas as faixas de atraso na variavel lista_status.\n",
        "\n",
        "Depois utilizamos o if para verificar se as faixas de atraso daquele ID contem alguma das faixas de atrasos determinadas, caso tenha retorna 1 e caso não retorna 0\n",
        "\n",
        "Depois de aplicar em todos os ID, vamos utilizar o reset_index para ter a coluna de ID.\n",
        "\n",
        "No final temos o DataFrame df_registros_creditos_id, com a coluna ID e a coluna Mau."
      ]
    },
    {
      "cell_type": "code",
      "metadata": {
        "id": "Ukq-AgsbQNBW",
        "colab": {
          "base_uri": "https://localhost:8080/",
          "height": 204
        },
        "outputId": "8cb4aa37-9c67-49e5-bcce-e7dc66b25cd7"
      },
      "source": [
        "def verifica(registros):\n",
        "  lista_status = registros['Faixa_atraso'].to_list()\n",
        "  if '60-89 dias' in lista_status or '90-119 dias' in lista_status or '120-149 dias' in lista_status or '>150 dias' in lista_status:\n",
        "    return 1\n",
        "  else:\n",
        "    return 0\n",
        "  \n",
        "df_registros_creditos_id = pd.DataFrame(df_clientes_aprovados_tratamento1.groupby('ID_Cliente').apply(verifica)).reset_index()\n",
        "df_registros_creditos_id.columns = ['ID_Cliente', 'Mau']\n",
        "df_registros_creditos_id.head()"
      ],
      "execution_count": 40,
      "outputs": [
        {
          "output_type": "execute_result",
          "data": {
            "text/html": [
              "<div>\n",
              "<style scoped>\n",
              "    .dataframe tbody tr th:only-of-type {\n",
              "        vertical-align: middle;\n",
              "    }\n",
              "\n",
              "    .dataframe tbody tr th {\n",
              "        vertical-align: top;\n",
              "    }\n",
              "\n",
              "    .dataframe thead th {\n",
              "        text-align: right;\n",
              "    }\n",
              "</style>\n",
              "<table border=\"1\" class=\"dataframe\">\n",
              "  <thead>\n",
              "    <tr style=\"text-align: right;\">\n",
              "      <th></th>\n",
              "      <th>ID_Cliente</th>\n",
              "      <th>Mau</th>\n",
              "    </tr>\n",
              "  </thead>\n",
              "  <tbody>\n",
              "    <tr>\n",
              "      <th>0</th>\n",
              "      <td>5001712</td>\n",
              "      <td>0</td>\n",
              "    </tr>\n",
              "    <tr>\n",
              "      <th>1</th>\n",
              "      <td>5001713</td>\n",
              "      <td>0</td>\n",
              "    </tr>\n",
              "    <tr>\n",
              "      <th>2</th>\n",
              "      <td>5001714</td>\n",
              "      <td>0</td>\n",
              "    </tr>\n",
              "    <tr>\n",
              "      <th>3</th>\n",
              "      <td>5001715</td>\n",
              "      <td>0</td>\n",
              "    </tr>\n",
              "    <tr>\n",
              "      <th>4</th>\n",
              "      <td>5001717</td>\n",
              "      <td>0</td>\n",
              "    </tr>\n",
              "  </tbody>\n",
              "</table>\n",
              "</div>"
            ],
            "text/plain": [
              "   ID_Cliente  Mau\n",
              "0     5001712    0\n",
              "1     5001713    0\n",
              "2     5001714    0\n",
              "3     5001715    0\n",
              "4     5001717    0"
            ]
          },
          "metadata": {},
          "execution_count": 40
        }
      ]
    },
    {
      "cell_type": "markdown",
      "metadata": {
        "id": "MI72hK2J75RA"
      },
      "source": [
        "#Criação da Base para predição"
      ]
    },
    {
      "cell_type": "markdown",
      "metadata": {
        "id": "XzIxVzYCzFfc"
      },
      "source": [
        "Vamos pegar as duas bases (Clientes Aprovados e Clientes cadastrados) e juntar elas utilizando os .merge e ter a base para a criação do modelo preditivo."
      ]
    },
    {
      "cell_type": "code",
      "metadata": {
        "colab": {
          "base_uri": "https://localhost:8080/",
          "height": 309
        },
        "id": "MXkRz5yl7q6M",
        "outputId": "3bf6e9ea-25ee-4bb2-c0ac-697a68379785"
      },
      "source": [
        "df_registro_clientes_targets = df_clientes_cadastrados_tratamento.merge(df_registros_creditos_id, on='ID_Cliente')\n",
        "df_registro_clientes_targets.head()"
      ],
      "execution_count": 41,
      "outputs": [
        {
          "output_type": "execute_result",
          "data": {
            "text/html": [
              "<div>\n",
              "<style scoped>\n",
              "    .dataframe tbody tr th:only-of-type {\n",
              "        vertical-align: middle;\n",
              "    }\n",
              "\n",
              "    .dataframe tbody tr th {\n",
              "        vertical-align: top;\n",
              "    }\n",
              "\n",
              "    .dataframe thead th {\n",
              "        text-align: right;\n",
              "    }\n",
              "</style>\n",
              "<table border=\"1\" class=\"dataframe\">\n",
              "  <thead>\n",
              "    <tr style=\"text-align: right;\">\n",
              "      <th></th>\n",
              "      <th>ID_Cliente</th>\n",
              "      <th>Tem_Carro</th>\n",
              "      <th>Tem_Casa_Propria</th>\n",
              "      <th>Qtd_Filhos</th>\n",
              "      <th>Rendimento_Anual</th>\n",
              "      <th>Categoria_de_renda</th>\n",
              "      <th>Grau_Escolaridade</th>\n",
              "      <th>Estado_Civil</th>\n",
              "      <th>Moradia</th>\n",
              "      <th>Idade</th>\n",
              "      <th>Tem_telefone_trabalho</th>\n",
              "      <th>Tem_telefone_fixo</th>\n",
              "      <th>Tem_email</th>\n",
              "      <th>Ocupacao</th>\n",
              "      <th>Tamanho_Familia</th>\n",
              "      <th>Anos_empregado</th>\n",
              "      <th>Mau</th>\n",
              "    </tr>\n",
              "  </thead>\n",
              "  <tbody>\n",
              "    <tr>\n",
              "      <th>0</th>\n",
              "      <td>5008806</td>\n",
              "      <td>1</td>\n",
              "      <td>1</td>\n",
              "      <td>0</td>\n",
              "      <td>112500.0</td>\n",
              "      <td>Empregado</td>\n",
              "      <td>Ensino medio</td>\n",
              "      <td>Casado</td>\n",
              "      <td>Casa propria</td>\n",
              "      <td>59.0</td>\n",
              "      <td>0</td>\n",
              "      <td>0</td>\n",
              "      <td>0</td>\n",
              "      <td>Seguranca</td>\n",
              "      <td>2.0</td>\n",
              "      <td>3.1</td>\n",
              "      <td>0</td>\n",
              "    </tr>\n",
              "    <tr>\n",
              "      <th>1</th>\n",
              "      <td>5008810</td>\n",
              "      <td>0</td>\n",
              "      <td>1</td>\n",
              "      <td>0</td>\n",
              "      <td>270000.0</td>\n",
              "      <td>Associado comercial</td>\n",
              "      <td>Ensino medio</td>\n",
              "      <td>Solteiro</td>\n",
              "      <td>Casa propria</td>\n",
              "      <td>52.0</td>\n",
              "      <td>0</td>\n",
              "      <td>1</td>\n",
              "      <td>1</td>\n",
              "      <td>Venda</td>\n",
              "      <td>1.0</td>\n",
              "      <td>8.4</td>\n",
              "      <td>0</td>\n",
              "    </tr>\n",
              "    <tr>\n",
              "      <th>2</th>\n",
              "      <td>5008811</td>\n",
              "      <td>0</td>\n",
              "      <td>1</td>\n",
              "      <td>0</td>\n",
              "      <td>270000.0</td>\n",
              "      <td>Associado comercial</td>\n",
              "      <td>Ensino medio</td>\n",
              "      <td>Solteiro</td>\n",
              "      <td>Casa propria</td>\n",
              "      <td>52.0</td>\n",
              "      <td>0</td>\n",
              "      <td>1</td>\n",
              "      <td>1</td>\n",
              "      <td>Venda</td>\n",
              "      <td>1.0</td>\n",
              "      <td>8.4</td>\n",
              "      <td>0</td>\n",
              "    </tr>\n",
              "    <tr>\n",
              "      <th>3</th>\n",
              "      <td>5008812</td>\n",
              "      <td>0</td>\n",
              "      <td>1</td>\n",
              "      <td>0</td>\n",
              "      <td>283500.0</td>\n",
              "      <td>Pensionista</td>\n",
              "      <td>Ensino superior</td>\n",
              "      <td>Separado</td>\n",
              "      <td>Casa propria</td>\n",
              "      <td>62.0</td>\n",
              "      <td>0</td>\n",
              "      <td>0</td>\n",
              "      <td>0</td>\n",
              "      <td>Outros</td>\n",
              "      <td>1.0</td>\n",
              "      <td>-1.0</td>\n",
              "      <td>0</td>\n",
              "    </tr>\n",
              "    <tr>\n",
              "      <th>4</th>\n",
              "      <td>5008813</td>\n",
              "      <td>0</td>\n",
              "      <td>1</td>\n",
              "      <td>0</td>\n",
              "      <td>283500.0</td>\n",
              "      <td>Pensionista</td>\n",
              "      <td>Ensino superior</td>\n",
              "      <td>Separado</td>\n",
              "      <td>Casa propria</td>\n",
              "      <td>62.0</td>\n",
              "      <td>0</td>\n",
              "      <td>0</td>\n",
              "      <td>0</td>\n",
              "      <td>Outros</td>\n",
              "      <td>1.0</td>\n",
              "      <td>-1.0</td>\n",
              "      <td>0</td>\n",
              "    </tr>\n",
              "  </tbody>\n",
              "</table>\n",
              "</div>"
            ],
            "text/plain": [
              "   ID_Cliente  Tem_Carro  ...  Anos_empregado  Mau\n",
              "0     5008806          1  ...             3.1    0\n",
              "1     5008810          0  ...             8.4    0\n",
              "2     5008811          0  ...             8.4    0\n",
              "3     5008812          0  ...            -1.0    0\n",
              "4     5008813          0  ...            -1.0    0\n",
              "\n",
              "[5 rows x 17 columns]"
            ]
          },
          "metadata": {},
          "execution_count": 41
        }
      ]
    },
    {
      "cell_type": "markdown",
      "metadata": {
        "id": "ZVymj8ROzWIo"
      },
      "source": [
        "Agora transformar os dados em **CSV**  utilizando o **.to_csv()** removendo os index utilizando o parâmetro **index = False** e baixar com o aquivo com uma biblioteca do **Google Colab**."
      ]
    },
    {
      "cell_type": "code",
      "metadata": {
        "colab": {
          "base_uri": "https://localhost:8080/",
          "height": 17
        },
        "id": "z4y9TvMQ8YE5",
        "outputId": "e3816b98-596d-4910-c7bc-b2b4811fbc7e"
      },
      "source": [
        "df_registro_clientes_targets.to_csv('dados_clientes_targets.csv',index= False)\n",
        "#files.download('dados_clientes_targets.csv')"
      ],
      "execution_count": 42,
      "outputs": [
        {
          "output_type": "display_data",
          "data": {
            "application/javascript": [
              "\n",
              "    async function download(id, filename, size) {\n",
              "      if (!google.colab.kernel.accessAllowed) {\n",
              "        return;\n",
              "      }\n",
              "      const div = document.createElement('div');\n",
              "      const label = document.createElement('label');\n",
              "      label.textContent = `Downloading \"${filename}\": `;\n",
              "      div.appendChild(label);\n",
              "      const progress = document.createElement('progress');\n",
              "      progress.max = size;\n",
              "      div.appendChild(progress);\n",
              "      document.body.appendChild(div);\n",
              "\n",
              "      const buffers = [];\n",
              "      let downloaded = 0;\n",
              "\n",
              "      const channel = await google.colab.kernel.comms.open(id);\n",
              "      // Send a message to notify the kernel that we're ready.\n",
              "      channel.send({})\n",
              "\n",
              "      for await (const message of channel.messages) {\n",
              "        // Send a message to notify the kernel that we're ready.\n",
              "        channel.send({})\n",
              "        if (message.buffers) {\n",
              "          for (const buffer of message.buffers) {\n",
              "            buffers.push(buffer);\n",
              "            downloaded += buffer.byteLength;\n",
              "            progress.value = downloaded;\n",
              "          }\n",
              "        }\n",
              "      }\n",
              "      const blob = new Blob(buffers, {type: 'application/binary'});\n",
              "      const a = document.createElement('a');\n",
              "      a.href = window.URL.createObjectURL(blob);\n",
              "      a.download = filename;\n",
              "      div.appendChild(a);\n",
              "      a.click();\n",
              "      div.remove();\n",
              "    }\n",
              "  "
            ],
            "text/plain": [
              "<IPython.core.display.Javascript object>"
            ]
          },
          "metadata": {}
        },
        {
          "output_type": "display_data",
          "data": {
            "application/javascript": [
              "download(\"download_476401ed-9af5-403b-90b0-e508206d4b59\", \"dados_clientes_targets.csv\", 2367845)"
            ],
            "text/plain": [
              "<IPython.core.display.Javascript object>"
            ]
          },
          "metadata": {}
        }
      ]
    }
  ]
}