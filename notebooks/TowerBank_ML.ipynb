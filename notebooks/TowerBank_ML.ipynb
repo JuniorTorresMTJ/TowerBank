{
  "nbformat": 4,
  "nbformat_minor": 0,
  "metadata": {
    "colab": {
      "name": "TowerBank_ML.ipynb",
      "provenance": [],
      "authorship_tag": "ABX9TyMjZLsY/mtrqy2RmVEHiLLO",
      "include_colab_link": true
    },
    "kernelspec": {
      "name": "python3",
      "display_name": "Python 3"
    },
    "language_info": {
      "name": "python"
    }
  },
  "cells": [
    {
      "cell_type": "markdown",
      "metadata": {
        "id": "view-in-github",
        "colab_type": "text"
      },
      "source": [
        "<a href=\"https://colab.research.google.com/github/JuniorTorresMTJ/TowerBank/blob/main/notebooks/TowerBank_ML.ipynb\" target=\"_parent\"><img src=\"https://colab.research.google.com/assets/colab-badge.svg\" alt=\"Open In Colab\"/></a>"
      ]
    },
    {
      "cell_type": "markdown",
      "metadata": {
        "id": "lZGsiXMopSsj"
      },
      "source": [
        "***\n",
        "***\n",
        "#TowerBank - Criação do Modelo Preditivo\n",
        "***\n",
        "***"
      ]
    },
    {
      "cell_type": "markdown",
      "metadata": {
        "id": "TO5JgmJIpVOS"
      },
      "source": [
        "<img src=\"https://raw.githubusercontent.com/JuniorTorresMTJ/TowerBank/main/img/TowerBankLog.png\" alt=\"win\" width=\"800\"/>"
      ]
    },
    {
      "cell_type": "markdown",
      "metadata": {
        "id": "fSCjCgv4pXIB"
      },
      "source": [
        "***\n",
        "#OBJETIVO\n",
        "***"
      ]
    },
    {
      "cell_type": "markdown",
      "metadata": {
        "id": "ZnFqJy4kry4E"
      },
      "source": [
        "***\n",
        "#IMPORTAÇÃO DAS BIBLIOTECAS\n",
        "***"
      ]
    },
    {
      "cell_type": "code",
      "metadata": {
        "id": "qE5RBrz6sL5Z"
      },
      "source": [
        "import pandas            as pd\n",
        "import numpy             as np\n",
        "from google.colab import files\n",
        "from scipy import stats\n",
        "from sklearn.pipeline import Pipeline\n",
        "\n",
        "#bibliotecas de visualização\n",
        "\n",
        "import matplotlib.pyplot as plt\n",
        "import matplotlib.ticker as ticker\n",
        "import seaborn           as sns\n",
        "\n",
        "#Bibliotecas de Pré-processamento\n",
        "\n",
        "from sklearn.model_selection import train_test_split\n",
        "from sklearn.feature_selection import SelectFromModel\n",
        "from sklearn.preprocessing import OneHotEncoder\n",
        "from sklearn.preprocessing import MinMaxScaler\n",
        "from sklearn.base import BaseEstimator, TransformerMixin\n",
        "from imblearn.over_sampling import SMOTE\n",
        "from imblearn.pipeline import Pipeline\n",
        "\n",
        "#Bibliotecas de Modelo de Machine Learning\n",
        "\n",
        "from sklearn.dummy import DummyClassifier\n",
        "from sklearn.linear_model import LogisticRegression\n",
        "from sklearn.ensemble import RandomForestClassifier\n",
        "\n",
        "#Bibliotecas de Avaliação do Modelo\n",
        "from sklearn.metrics import accuracy_score\n",
        "from sklearn.metrics import classification_report\n",
        "from sklearn.metrics import plot_confusion_matrix\n",
        "from sklearn.metrics import roc_auc_score\n",
        "\n",
        "import warnings\n",
        "warnings.filterwarnings('ignore')"
      ],
      "execution_count": 67,
      "outputs": []
    },
    {
      "cell_type": "markdown",
      "metadata": {
        "id": "9WvkClszr1Mp"
      },
      "source": [
        "***\n",
        "#DADOS\n",
        "***"
      ]
    },
    {
      "cell_type": "code",
      "metadata": {
        "id": "5qEfB27NsQsC"
      },
      "source": [
        "df_credito = pd.read_csv('https://raw.githubusercontent.com/JuniorTorresMTJ/TowerBank/main/dados/dados_clientes_targets.csv')\n"
      ],
      "execution_count": 68,
      "outputs": []
    },
    {
      "cell_type": "markdown",
      "metadata": {
        "id": "dp4-SXN4rzm5"
      },
      "source": [
        "***\n",
        "#PRÉ-PROCESSAMENTO\n",
        "***"
      ]
    },
    {
      "cell_type": "code",
      "metadata": {
        "colab": {
          "base_uri": "https://localhost:8080/",
          "height": 309
        },
        "id": "8hXAUVMlpNHa",
        "outputId": "ac41758d-6782-415e-fefc-b247af46a069"
      },
      "source": [
        "df_credito.head()"
      ],
      "execution_count": 69,
      "outputs": [
        {
          "output_type": "execute_result",
          "data": {
            "text/html": [
              "<div>\n",
              "<style scoped>\n",
              "    .dataframe tbody tr th:only-of-type {\n",
              "        vertical-align: middle;\n",
              "    }\n",
              "\n",
              "    .dataframe tbody tr th {\n",
              "        vertical-align: top;\n",
              "    }\n",
              "\n",
              "    .dataframe thead th {\n",
              "        text-align: right;\n",
              "    }\n",
              "</style>\n",
              "<table border=\"1\" class=\"dataframe\">\n",
              "  <thead>\n",
              "    <tr style=\"text-align: right;\">\n",
              "      <th></th>\n",
              "      <th>ID_Cliente</th>\n",
              "      <th>Tem_Carro</th>\n",
              "      <th>Tem_Casa_Propria</th>\n",
              "      <th>Qtd_Filhos</th>\n",
              "      <th>Rendimento_Anual</th>\n",
              "      <th>Categoria_de_renda</th>\n",
              "      <th>Grau_Escolaridade</th>\n",
              "      <th>Estado_Civil</th>\n",
              "      <th>Moradia</th>\n",
              "      <th>Idade</th>\n",
              "      <th>Tem_telefone_trabalho</th>\n",
              "      <th>Tem_telefone_fixo</th>\n",
              "      <th>Tem_email</th>\n",
              "      <th>Ocupacao</th>\n",
              "      <th>Tamanho_Familia</th>\n",
              "      <th>Anos_empregado</th>\n",
              "      <th>Mau</th>\n",
              "    </tr>\n",
              "  </thead>\n",
              "  <tbody>\n",
              "    <tr>\n",
              "      <th>0</th>\n",
              "      <td>5008806</td>\n",
              "      <td>1</td>\n",
              "      <td>1</td>\n",
              "      <td>0</td>\n",
              "      <td>112500.0</td>\n",
              "      <td>Empregado</td>\n",
              "      <td>Ensino medio</td>\n",
              "      <td>Casado</td>\n",
              "      <td>Casa propria</td>\n",
              "      <td>59.0</td>\n",
              "      <td>0</td>\n",
              "      <td>0</td>\n",
              "      <td>0</td>\n",
              "      <td>Seguranca</td>\n",
              "      <td>2.0</td>\n",
              "      <td>3.1</td>\n",
              "      <td>0</td>\n",
              "    </tr>\n",
              "    <tr>\n",
              "      <th>1</th>\n",
              "      <td>5008810</td>\n",
              "      <td>0</td>\n",
              "      <td>1</td>\n",
              "      <td>0</td>\n",
              "      <td>270000.0</td>\n",
              "      <td>Associado comercial</td>\n",
              "      <td>Ensino medio</td>\n",
              "      <td>Solteiro</td>\n",
              "      <td>Casa propria</td>\n",
              "      <td>52.0</td>\n",
              "      <td>0</td>\n",
              "      <td>1</td>\n",
              "      <td>1</td>\n",
              "      <td>Venda</td>\n",
              "      <td>1.0</td>\n",
              "      <td>8.4</td>\n",
              "      <td>0</td>\n",
              "    </tr>\n",
              "    <tr>\n",
              "      <th>2</th>\n",
              "      <td>5008811</td>\n",
              "      <td>0</td>\n",
              "      <td>1</td>\n",
              "      <td>0</td>\n",
              "      <td>270000.0</td>\n",
              "      <td>Associado comercial</td>\n",
              "      <td>Ensino medio</td>\n",
              "      <td>Solteiro</td>\n",
              "      <td>Casa propria</td>\n",
              "      <td>52.0</td>\n",
              "      <td>0</td>\n",
              "      <td>1</td>\n",
              "      <td>1</td>\n",
              "      <td>Venda</td>\n",
              "      <td>1.0</td>\n",
              "      <td>8.4</td>\n",
              "      <td>0</td>\n",
              "    </tr>\n",
              "    <tr>\n",
              "      <th>3</th>\n",
              "      <td>5008812</td>\n",
              "      <td>0</td>\n",
              "      <td>1</td>\n",
              "      <td>0</td>\n",
              "      <td>283500.0</td>\n",
              "      <td>Pensionista</td>\n",
              "      <td>Ensino superior</td>\n",
              "      <td>Separado</td>\n",
              "      <td>Casa propria</td>\n",
              "      <td>62.0</td>\n",
              "      <td>0</td>\n",
              "      <td>0</td>\n",
              "      <td>0</td>\n",
              "      <td>Outros</td>\n",
              "      <td>1.0</td>\n",
              "      <td>-1.0</td>\n",
              "      <td>0</td>\n",
              "    </tr>\n",
              "    <tr>\n",
              "      <th>4</th>\n",
              "      <td>5008813</td>\n",
              "      <td>0</td>\n",
              "      <td>1</td>\n",
              "      <td>0</td>\n",
              "      <td>283500.0</td>\n",
              "      <td>Pensionista</td>\n",
              "      <td>Ensino superior</td>\n",
              "      <td>Separado</td>\n",
              "      <td>Casa propria</td>\n",
              "      <td>62.0</td>\n",
              "      <td>0</td>\n",
              "      <td>0</td>\n",
              "      <td>0</td>\n",
              "      <td>Outros</td>\n",
              "      <td>1.0</td>\n",
              "      <td>-1.0</td>\n",
              "      <td>0</td>\n",
              "    </tr>\n",
              "  </tbody>\n",
              "</table>\n",
              "</div>"
            ],
            "text/plain": [
              "   ID_Cliente  Tem_Carro  ...  Anos_empregado  Mau\n",
              "0     5008806          1  ...             3.1    0\n",
              "1     5008810          0  ...             8.4    0\n",
              "2     5008811          0  ...             8.4    0\n",
              "3     5008812          0  ...            -1.0    0\n",
              "4     5008813          0  ...            -1.0    0\n",
              "\n",
              "[5 rows x 17 columns]"
            ]
          },
          "metadata": {},
          "execution_count": 69
        }
      ]
    },
    {
      "cell_type": "code",
      "metadata": {
        "colab": {
          "base_uri": "https://localhost:8080/"
        },
        "id": "h9EovWGeslbC",
        "outputId": "85fecb3e-17e8-4be5-e15b-8fef2bea91cc"
      },
      "source": [
        "colunas_categoricas_binarias = ['Tem_Carro',\n",
        "                                'Tem_Casa_Propria',\n",
        "                                'Tem_telefone_trabalho',\n",
        "                                'Tem_telefone_fixo',\n",
        "                                'Tem_email']\n",
        "colunas_categoricas_binarias"
      ],
      "execution_count": 70,
      "outputs": [
        {
          "output_type": "execute_result",
          "data": {
            "text/plain": [
              "['Tem_Carro',\n",
              " 'Tem_Casa_Propria',\n",
              " 'Tem_telefone_trabalho',\n",
              " 'Tem_telefone_fixo',\n",
              " 'Tem_email']"
            ]
          },
          "metadata": {},
          "execution_count": 70
        }
      ]
    },
    {
      "cell_type": "code",
      "metadata": {
        "colab": {
          "base_uri": "https://localhost:8080/"
        },
        "id": "TX21dZFMs97I",
        "outputId": "eed84257-bd21-458c-a4f9-67eced842769"
      },
      "source": [
        "colunas_categoricas_nao_binarias = ['Categoria_de_renda',\n",
        "                                    'Grau_Escolaridade',\n",
        "                                    'Estado_Civil',\n",
        "                                    'Moradia',\n",
        "                                    'Ocupacao']\n",
        "colunas_categoricas_nao_binarias"
      ],
      "execution_count": 71,
      "outputs": [
        {
          "output_type": "execute_result",
          "data": {
            "text/plain": [
              "['Categoria_de_renda',\n",
              " 'Grau_Escolaridade',\n",
              " 'Estado_Civil',\n",
              " 'Moradia',\n",
              " 'Ocupacao']"
            ]
          },
          "metadata": {},
          "execution_count": 71
        }
      ]
    },
    {
      "cell_type": "code",
      "metadata": {
        "id": "Ly-XCcfCtK8h"
      },
      "source": [
        "colunas_continuas = ['Idade', 'Qtd_Filhos', 'Rendimento_Anual', 'Anos_empregado', 'Tamanho_Familia']"
      ],
      "execution_count": 72,
      "outputs": []
    },
    {
      "cell_type": "code",
      "metadata": {
        "id": "ivgPN4YHuxTj"
      },
      "source": [
        "colunas_categoricas = ['Tem_Carro', 'Tem_Casa_Propria',\n",
        "                       'Categoria_de_renda', 'Grau_Escolaridade',\n",
        "                       'Estado_Civil', 'Moradia','Tem_telefone_trabalho', 'Tem_telefone_fixo', 'Tem_email',\n",
        "                       'Ocupacao']"
      ],
      "execution_count": 73,
      "outputs": []
    },
    {
      "cell_type": "markdown",
      "metadata": {
        "id": "pix2ghOhtNFR"
      },
      "source": [
        ""
      ]
    },
    {
      "cell_type": "code",
      "metadata": {
        "colab": {
          "base_uri": "https://localhost:8080/",
          "height": 309
        },
        "id": "lweQmQVttY1m",
        "outputId": "579d538c-67a2-4713-a577-fc6e3c2f3a33"
      },
      "source": [
        "df_registro_clientes_targets = df_credito[['ID_Cliente'] + colunas_continuas + colunas_categoricas_binarias + colunas_categoricas_nao_binarias + ['Mau']]\n",
        "df_registro_clientes_targets.head()"
      ],
      "execution_count": 74,
      "outputs": [
        {
          "output_type": "execute_result",
          "data": {
            "text/html": [
              "<div>\n",
              "<style scoped>\n",
              "    .dataframe tbody tr th:only-of-type {\n",
              "        vertical-align: middle;\n",
              "    }\n",
              "\n",
              "    .dataframe tbody tr th {\n",
              "        vertical-align: top;\n",
              "    }\n",
              "\n",
              "    .dataframe thead th {\n",
              "        text-align: right;\n",
              "    }\n",
              "</style>\n",
              "<table border=\"1\" class=\"dataframe\">\n",
              "  <thead>\n",
              "    <tr style=\"text-align: right;\">\n",
              "      <th></th>\n",
              "      <th>ID_Cliente</th>\n",
              "      <th>Idade</th>\n",
              "      <th>Qtd_Filhos</th>\n",
              "      <th>Rendimento_Anual</th>\n",
              "      <th>Anos_empregado</th>\n",
              "      <th>Tamanho_Familia</th>\n",
              "      <th>Tem_Carro</th>\n",
              "      <th>Tem_Casa_Propria</th>\n",
              "      <th>Tem_telefone_trabalho</th>\n",
              "      <th>Tem_telefone_fixo</th>\n",
              "      <th>Tem_email</th>\n",
              "      <th>Categoria_de_renda</th>\n",
              "      <th>Grau_Escolaridade</th>\n",
              "      <th>Estado_Civil</th>\n",
              "      <th>Moradia</th>\n",
              "      <th>Ocupacao</th>\n",
              "      <th>Mau</th>\n",
              "    </tr>\n",
              "  </thead>\n",
              "  <tbody>\n",
              "    <tr>\n",
              "      <th>0</th>\n",
              "      <td>5008806</td>\n",
              "      <td>59.0</td>\n",
              "      <td>0</td>\n",
              "      <td>112500.0</td>\n",
              "      <td>3.1</td>\n",
              "      <td>2.0</td>\n",
              "      <td>1</td>\n",
              "      <td>1</td>\n",
              "      <td>0</td>\n",
              "      <td>0</td>\n",
              "      <td>0</td>\n",
              "      <td>Empregado</td>\n",
              "      <td>Ensino medio</td>\n",
              "      <td>Casado</td>\n",
              "      <td>Casa propria</td>\n",
              "      <td>Seguranca</td>\n",
              "      <td>0</td>\n",
              "    </tr>\n",
              "    <tr>\n",
              "      <th>1</th>\n",
              "      <td>5008810</td>\n",
              "      <td>52.0</td>\n",
              "      <td>0</td>\n",
              "      <td>270000.0</td>\n",
              "      <td>8.4</td>\n",
              "      <td>1.0</td>\n",
              "      <td>0</td>\n",
              "      <td>1</td>\n",
              "      <td>0</td>\n",
              "      <td>1</td>\n",
              "      <td>1</td>\n",
              "      <td>Associado comercial</td>\n",
              "      <td>Ensino medio</td>\n",
              "      <td>Solteiro</td>\n",
              "      <td>Casa propria</td>\n",
              "      <td>Venda</td>\n",
              "      <td>0</td>\n",
              "    </tr>\n",
              "    <tr>\n",
              "      <th>2</th>\n",
              "      <td>5008811</td>\n",
              "      <td>52.0</td>\n",
              "      <td>0</td>\n",
              "      <td>270000.0</td>\n",
              "      <td>8.4</td>\n",
              "      <td>1.0</td>\n",
              "      <td>0</td>\n",
              "      <td>1</td>\n",
              "      <td>0</td>\n",
              "      <td>1</td>\n",
              "      <td>1</td>\n",
              "      <td>Associado comercial</td>\n",
              "      <td>Ensino medio</td>\n",
              "      <td>Solteiro</td>\n",
              "      <td>Casa propria</td>\n",
              "      <td>Venda</td>\n",
              "      <td>0</td>\n",
              "    </tr>\n",
              "    <tr>\n",
              "      <th>3</th>\n",
              "      <td>5008812</td>\n",
              "      <td>62.0</td>\n",
              "      <td>0</td>\n",
              "      <td>283500.0</td>\n",
              "      <td>-1.0</td>\n",
              "      <td>1.0</td>\n",
              "      <td>0</td>\n",
              "      <td>1</td>\n",
              "      <td>0</td>\n",
              "      <td>0</td>\n",
              "      <td>0</td>\n",
              "      <td>Pensionista</td>\n",
              "      <td>Ensino superior</td>\n",
              "      <td>Separado</td>\n",
              "      <td>Casa propria</td>\n",
              "      <td>Outros</td>\n",
              "      <td>0</td>\n",
              "    </tr>\n",
              "    <tr>\n",
              "      <th>4</th>\n",
              "      <td>5008813</td>\n",
              "      <td>62.0</td>\n",
              "      <td>0</td>\n",
              "      <td>283500.0</td>\n",
              "      <td>-1.0</td>\n",
              "      <td>1.0</td>\n",
              "      <td>0</td>\n",
              "      <td>1</td>\n",
              "      <td>0</td>\n",
              "      <td>0</td>\n",
              "      <td>0</td>\n",
              "      <td>Pensionista</td>\n",
              "      <td>Ensino superior</td>\n",
              "      <td>Separado</td>\n",
              "      <td>Casa propria</td>\n",
              "      <td>Outros</td>\n",
              "      <td>0</td>\n",
              "    </tr>\n",
              "  </tbody>\n",
              "</table>\n",
              "</div>"
            ],
            "text/plain": [
              "   ID_Cliente  Idade  Qtd_Filhos  ...       Moradia   Ocupacao  Mau\n",
              "0     5008806   59.0           0  ...  Casa propria  Seguranca    0\n",
              "1     5008810   52.0           0  ...  Casa propria      Venda    0\n",
              "2     5008811   52.0           0  ...  Casa propria      Venda    0\n",
              "3     5008812   62.0           0  ...  Casa propria     Outros    0\n",
              "4     5008813   62.0           0  ...  Casa propria     Outros    0\n",
              "\n",
              "[5 rows x 17 columns]"
            ]
          },
          "metadata": {},
          "execution_count": 74
        }
      ]
    },
    {
      "cell_type": "code",
      "metadata": {
        "colab": {
          "base_uri": "https://localhost:8080/"
        },
        "id": "ERE_X7JGtigq",
        "outputId": "5a341dab-79a8-417b-dd81-1d97919dd640"
      },
      "source": [
        "!pip install scikit-learn==0.23.2 imbalanced-learn==0.7.0"
      ],
      "execution_count": 75,
      "outputs": [
        {
          "output_type": "stream",
          "name": "stdout",
          "text": [
            "Requirement already satisfied: scikit-learn==0.23.2 in /usr/local/lib/python3.7/dist-packages (0.23.2)\n",
            "Requirement already satisfied: imbalanced-learn==0.7.0 in /usr/local/lib/python3.7/dist-packages (0.7.0)\n",
            "Requirement already satisfied: joblib>=0.11 in /usr/local/lib/python3.7/dist-packages (from scikit-learn==0.23.2) (1.0.1)\n",
            "Requirement already satisfied: numpy>=1.13.3 in /usr/local/lib/python3.7/dist-packages (from scikit-learn==0.23.2) (1.19.5)\n",
            "Requirement already satisfied: scipy>=0.19.1 in /usr/local/lib/python3.7/dist-packages (from scikit-learn==0.23.2) (1.4.1)\n",
            "Requirement already satisfied: threadpoolctl>=2.0.0 in /usr/local/lib/python3.7/dist-packages (from scikit-learn==0.23.2) (2.2.0)\n"
          ]
        }
      ]
    },
    {
      "cell_type": "code",
      "metadata": {
        "id": "eX6dm1ZOt4AI"
      },
      "source": [
        "SEED = 1561651"
      ],
      "execution_count": 76,
      "outputs": []
    },
    {
      "cell_type": "code",
      "metadata": {
        "id": "suffZfcyuFUx"
      },
      "source": [
        "SEED = 1561651\n",
        "def roda_modelo(modelo, dados):\n",
        "\n",
        "    # separando dados em x e y, e tambem removendo a coluna de ID_cliente\n",
        "    x = dados.drop(['ID_Cliente', 'Mau'], axis=1)\n",
        "    y = dados.drop('ID_Cliente', axis=1)['Mau']\n",
        "    \n",
        "    # Separando dados em treino e teste\n",
        "    x_train, x_test, y_train, y_test = train_test_split(x, y, stratify=y, random_state=SEED)\n",
        "\n",
        "    # Treinando modelo com os dados de treino\n",
        "    modelo.fit(x_train, y_train)\n",
        "\n",
        "    # Calculando a probabilidade e calculando o AUC\n",
        "    prob_predic = modelo.predict_proba(x_test)\n",
        "    auc = roc_auc_score(y_test, prob_predic[:,1])\n",
        "    print(f\"AUC {auc}\")\n",
        "    \n",
        "    # Separando a probabilidade de ser bom e mau, e calculando o KS\n",
        "    data_bom = np.sort(modelo.predict_proba(x_test)[:, 1])\n",
        "    data_mau = np.sort(modelo.predict_proba(x_test)[:, 0])\n",
        "    kstest = stats.ks_2samp(data_bom, data_mau)\n",
        "    print(f\"KS {kstest}\")\n",
        "\n",
        "    # Criando matriz de confusão\n",
        "    matriz_confusao = plot_confusion_matrix(modelo, x_test, y_test, values_format='.0f', display_labels=['Bons', 'Maus'])\n",
        "    plt.grid(False)    \n",
        "    plt.show(matriz_confusao)\n",
        "\n",
        "    # Fazendo a predicao dos dados de teste e calculando o classification report\n",
        "    predicao = modelo.predict(x_test)\n",
        "    print(\"\\nClassification Report\")\n",
        "    print(classification_report(y_test, predicao, zero_division=0))"
      ],
      "execution_count": 77,
      "outputs": []
    },
    {
      "cell_type": "code",
      "metadata": {
        "id": "1Waea-IruVrA"
      },
      "source": [
        "# PEP8 padrão CamelCase\n",
        "class Transformador(BaseEstimator, TransformerMixin):\n",
        "    def __init__( self, colunas_continuas, colunas_categoricas):\n",
        "        self.colunas_continuas = colunas_continuas\n",
        "        self.colunas_categoricas = colunas_categoricas\n",
        "        self.enc = OneHotEncoder()\n",
        "        self.scaler = MinMaxScaler()\n",
        "\n",
        "    def fit(self, X, y = None ):\n",
        "        self.enc.fit(X[self.colunas_categoricas])\n",
        "        self.scaler.fit(X[self.colunas_continuas])\n",
        "        return self \n",
        "\n",
        "    def transform(self, X, y = None):\n",
        "      \n",
        "      X_categoricas = pd.DataFrame(data=self.enc.transform(X[self.colunas_categoricas]).toarray(),\n",
        "                                  columns= self.enc.get_feature_names(self.colunas_categoricas))\n",
        "      \n",
        "      X_continuas = pd.DataFrame(data=self.scaler.transform(X[self.colunas_continuas]),\n",
        "                                  columns= self.colunas_continuas)\n",
        "      \n",
        "      X = pd.concat([X_continuas, X_categoricas], axis=1)\n",
        "\n",
        "      return X"
      ],
      "execution_count": 78,
      "outputs": []
    },
    {
      "cell_type": "code",
      "metadata": {
        "colab": {
          "base_uri": "https://localhost:8080/",
          "height": 500
        },
        "id": "PvbyWU1fulwj",
        "outputId": "434c9a17-2753-4cdf-b209-2d3f548de9ba"
      },
      "source": [
        "pipeline = Pipeline([('Transformador', Transformador(colunas_continuas, colunas_categoricas)),\n",
        "                     ('Modelo', DummyClassifier(strategy='prior'))])   \n",
        "roda_modelo(pipeline, df_registro_clientes_targets)"
      ],
      "execution_count": 79,
      "outputs": [
        {
          "output_type": "stream",
          "name": "stdout",
          "text": [
            "AUC 0.5\n",
            "KS Ks_2sampResult(statistic=1.0, pvalue=0.0)\n"
          ]
        },
        {
          "output_type": "display_data",
          "data": {
            "image/png": "[encoded data removed]",
            "text/plain": [
              "<Figure size 432x288 with 2 Axes>"
            ]
          },
          "metadata": {
            "needs_background": "light"
          }
        },
        {
          "output_type": "stream",
          "name": "stdout",
          "text": [
            "\n",
            "Classification Report\n",
            "              precision    recall  f1-score   support\n",
            "\n",
            "           0       0.98      1.00      0.99      5557\n",
            "           1       0.00      0.00      0.00       129\n",
            "\n",
            "    accuracy                           0.98      5686\n",
            "   macro avg       0.49      0.50      0.49      5686\n",
            "weighted avg       0.96      0.98      0.97      5686\n",
            "\n"
          ]
        }
      ]
    }
  ]
}